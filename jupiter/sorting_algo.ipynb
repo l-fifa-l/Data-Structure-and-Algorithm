{
 "cells": [
  {
   "cell_type": "markdown",
   "metadata": {},
   "source": [
    "<h2 align=\"center\">Merge Sort, Quicksort and Divide-n-Conquer Algorithms in Python</h2>"
   ]
  },
  {
   "cell_type": "markdown",
   "metadata": {},
   "source": [
    "> **QUESTION 1**: Write a program to sort a list of numbers."
   ]
  },
  {
   "cell_type": "markdown",
   "metadata": {},
   "source": [
    "### Bubble sort\n",
    "___\n",
    "It's easy to come up with a correct solution. Here's one: \n",
    "\n",
    "1. Iterate over the list of numbers, starting from the left\n",
    "2. Compare each number with the number that follows it\n",
    "3. If the number is greater than the one that follows it, swap the two elements\n",
    "4. Repeat steps 1 to 3 till the list is sorted."
   ]
  },
  {
   "cell_type": "code",
   "execution_count": 1,
   "metadata": {},
   "outputs": [],
   "source": [
    "arr = [4, 2, 6, 3, 4, 6, 2, 1]"
   ]
  },
  {
   "cell_type": "code",
   "execution_count": 2,
   "metadata": {},
   "outputs": [],
   "source": [
    "def bubble_sort(arr):\n",
    "    for _ in range(len(arr)-1):\n",
    "        for i in range(len(arr)-1):\n",
    "            if arr[i]>arr[i+1]:\n",
    "                arr[i], arr[i+1]=arr[i+1], arr[i]\n",
    "    return arr"
   ]
  },
  {
   "cell_type": "code",
   "execution_count": 3,
   "metadata": {},
   "outputs": [
    {
     "data": {
      "text/plain": [
       "[1, 2, 2, 3, 4, 4, 6, 6]"
      ]
     },
     "execution_count": 3,
     "metadata": {},
     "output_type": "execute_result"
    }
   ],
   "source": [
    "bubble_sort(arr)"
   ]
  },
  {
   "cell_type": "markdown",
   "metadata": {},
   "source": [
    "\n",
    "```\n",
    "for _ in range(len(nums) - 1):\n",
    "    for i in range(len(nums) - 1):\n",
    "        if nums[i] > nums[i+1]:\n",
    "            nums[i], nums[i+1] = nums[i+1], nums[i]\n",
    "```\n",
    "\n",
    "There are two loops, each of length `n-1`, where `n` is the number of elements in `nums`. So the total number of comparisons is $(n-1)*(n-1)$ i.e. $(n-1)^2$ i.e. $n^2 - 2n + 1$. \n",
    "\n",
    "Expressing this in the Big O notation, we can conclude that the time complexity of bubble sort is $O(n^2)$ (also known as quadratic complexity)."
   ]
  },
  {
   "cell_type": "markdown",
   "metadata": {},
   "source": [
    "### Insertion Sort\n",
    "___\n",
    "Before we look at explore more efficient sorting techniques, here's another simple sorting technique called insertion sort, where we keep the initial portion of the array sorted and insert the remaining elements one by one at the right position."
   ]
  }
 ],
 "metadata": {
  "kernelspec": {
   "display_name": "Python 3.10.2 64-bit",
   "language": "python",
   "name": "python3"
  },
  "language_info": {
   "codemirror_mode": {
    "name": "ipython",
    "version": 3
   },
   "file_extension": ".py",
   "mimetype": "text/x-python",
   "name": "python",
   "nbconvert_exporter": "python",
   "pygments_lexer": "ipython3",
   "version": "3.10.2"
  },
  "orig_nbformat": 4,
  "vscode": {
   "interpreter": {
    "hash": "369f2c481f4da34e4445cda3fffd2e751bd1c4d706f27375911949ba6bb62e1c"
   }
  }
 },
 "nbformat": 4,
 "nbformat_minor": 2
}
