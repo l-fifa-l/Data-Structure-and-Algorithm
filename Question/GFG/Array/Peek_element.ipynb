{
 "cells": [
  {
   "cell_type": "markdown",
   "metadata": {},
   "source": [
    "### QUESTION 1\n",
    "<h4>An element is called a peak element if its value is not smaller than the value of its adjacent elements(if they exists).\n",
    "Given an array arr[] of size N, Return the index of any one of its peak elements.\n",
    "Note: The generated output will always be 1 if the index that you return is correct. Otherwise output will be 0. \n",
    "</h4>\n",
    "\n",
    "```\n",
    "\n",
    "Example 1:\n",
    "\n",
    "Input: \n",
    "N = 3\n",
    "arr[] = {1,2,3}\n",
    "Possible Answer: 2\n",
    "Generated Output: 1\n",
    "Explanation: index 2 is 3.\n",
    "It is the peak element as it is \n",
    "greater than its neighbour 2.\n",
    "If 2 is returned then the generated output will be 1 else 0.\n",
    "Example 2:\n",
    "\n",
    "Input:\n",
    "N = 2\n",
    "arr[] = {3,4}\n",
    "Possible Answer: 1\n",
    "Output: 1\n",
    "Explanation: 4 (at index 1) is the \n",
    "peak element as it is greater than \n",
    "its only neighbour element 3.\n",
    "If 2 is returned then the generated output will be 1 else 0.\n",
    " \n",
    "\n",
    "Your Task:\n",
    "You don't have to read input or print anything. Complete the function peakElement() which takes the array arr[] and its size N as input parameters and return the index of any one of its peak elements.\n",
    "\n",
    "Can you solve the problem in expected time complexity?\n",
    " \n",
    "\n",
    "\n",
    "Expected Time Complexity: O(log N)\n",
    "Expected Auxiliary Space: O(1)\n",
    "\n",
    "\n",
    "Constraints:\n",
    "1 ≤ N ≤ 105\n",
    "1 ≤ A[] ≤ 106\n",
    "```"
   ]
  }
 ],
 "metadata": {
  "kernelspec": {
   "display_name": "Python 3.10.2 64-bit",
   "language": "python",
   "name": "python3"
  },
  "language_info": {
   "codemirror_mode": {
    "name": "ipython",
    "version": 3
   },
   "file_extension": ".py",
   "mimetype": "text/x-python",
   "name": "python",
   "nbconvert_exporter": "python",
   "pygments_lexer": "ipython3",
   "version": "3.10.2"
  },
  "orig_nbformat": 4,
  "vscode": {
   "interpreter": {
    "hash": "369f2c481f4da34e4445cda3fffd2e751bd1c4d706f27375911949ba6bb62e1c"
   }
  }
 },
 "nbformat": 4,
 "nbformat_minor": 2
}
