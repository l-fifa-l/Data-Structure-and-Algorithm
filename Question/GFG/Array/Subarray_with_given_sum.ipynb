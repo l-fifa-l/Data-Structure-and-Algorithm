{
 "cells": [
  {
   "cell_type": "markdown",
   "metadata": {},
   "source": [
    "> **Question:**\n",
    "\n",
    "<h4>Given an unsorted array A of size N that contains only non-negative integers, find a continuous sub-array which adds to a given number S.In case of multiple subarrays, return the subarray which comes first on moving from left to right.</h4>\n",
    "\n",
    "\n",
    " \n",
    "```\n",
    "Example 1:\n",
    "\n",
    "Input:\n",
    "N = 5, S = 12\n",
    "A[] = {1,2,3,7,5}\n",
    "Output: 2 4\n",
    "Explanation: The sum of elements \n",
    "from 2nd position to 4th position \n",
    "is 12.\n",
    " \n",
    "\n",
    "Example 2:\n",
    "\n",
    "Input:\n",
    "N = 10, S = 15\n",
    "A[] = {1,2,3,4,5,6,7,8,9,10}\n",
    "Output: 1 5\n",
    "Explanation: The sum of elements \n",
    "from 1st position to 5th position\n",
    "is 15.\n",
    " \n",
    "\n",
    "Your Task:\n",
    "You don't need to read input or print anything. The task is to complete the function subarraySum() which takes arr, N and S as input parameters and returns an arraylist containing the starting and ending positions of the first such occurring subarray from the left where sum equals to S. The two indexes in the array should be according to 1-based indexing. If no such subarray is found, return an array consisting only one element that is -1.\n",
    "\n",
    " \n",
    "\n",
    "Expected Time Complexity: O(N)\n",
    "Expected Auxiliary Space: O(1)\n",
    "\n",
    " \n",
    "\n",
    "Constraints:\n",
    "1 <= N <= 105\n",
    "1 <= Ai <= 109\n",
    "```"
   ]
  },
  {
   "cell_type": "markdown",
   "metadata": {},
   "source": [
    "<h1>Brute Force Approach<h1>"
   ]
  },
  {
   "cell_type": "markdown",
   "metadata": {},
   "source": [
    "1. start from index 0\n",
    "2. then add index 1 2..3..4..5..till end"
   ]
  },
  {
   "cell_type": "code",
   "execution_count": 37,
   "metadata": {},
   "outputs": [],
   "source": [
    "def subarray_sum(arr, req_sum, arr_len):\n",
    "    for i in range(arr_len):\n",
    "        cal_sum = arr[i]\n",
    "        print('cal_sum',cal_sum)\n",
    "        print(\"i\",i)\n",
    "        for j in range(i, arr_len):\n",
    "            print('j',j)\n",
    "            if cal_sum == req_sum:\n",
    "                print('cal_sum in',cal_sum)\n",
    "                return i, j\n",
    "            if cal_sum > req_sum:\n",
    "                break\n",
    "            cal_sum = cal_sum + arr[j]\n",
    "\n",
    "\n"
   ]
  },
  {
   "cell_type": "code",
   "execution_count": 36,
   "metadata": {},
   "outputs": [
    {
     "name": "stdout",
     "output_type": "stream",
     "text": [
      "i 0\n",
      "j 0\n",
      "j 1\n",
      "j 2\n",
      "i 1\n",
      "j 1\n",
      "j 2\n",
      "j 3\n",
      "i 2\n",
      "j 2\n",
      "j 3\n",
      "j 4\n",
      "j 5\n",
      "i 3\n",
      "j 3\n",
      "j 4\n",
      "j 5\n",
      "i 4\n",
      "j 4\n",
      "j 5\n",
      "i 5\n",
      "j 5\n",
      "None\n"
     ]
    }
   ],
   "source": [
    "print(subarray_sum([11, 9, 8, 7,13, 5, 17], 25, 6))"
   ]
  }
 ],
 "metadata": {
  "kernelspec": {
   "display_name": "Python 3.10.2 64-bit",
   "language": "python",
   "name": "python3"
  },
  "language_info": {
   "codemirror_mode": {
    "name": "ipython",
    "version": 3
   },
   "file_extension": ".py",
   "mimetype": "text/x-python",
   "name": "python",
   "nbconvert_exporter": "python",
   "pygments_lexer": "ipython3",
   "version": "3.10.2"
  },
  "orig_nbformat": 4,
  "vscode": {
   "interpreter": {
    "hash": "369f2c481f4da34e4445cda3fffd2e751bd1c4d706f27375911949ba6bb62e1c"
   }
  }
 },
 "nbformat": 4,
 "nbformat_minor": 2
}
