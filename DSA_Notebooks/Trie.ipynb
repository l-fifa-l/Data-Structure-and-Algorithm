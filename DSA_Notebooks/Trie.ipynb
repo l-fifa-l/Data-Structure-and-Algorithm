{
 "cells": [
  {
   "cell_type": "markdown",
   "metadata": {},
   "source": [
    "<h1 align=\"center\">Trie</h1>"
   ]
  },
  {
   "cell_type": "markdown",
   "metadata": {},
   "source": [
    "Trie is an efficient information retrieval data structure.  \n",
    "\n",
    "Using Trie, search complexities can be brought to optimal limit (key length). \n",
    "\n",
    "If we store keys in a binary search tree, a well balanced BST will need time proportional to M * log N,  \n",
    "where M is the maximum string length and N is the number of keys in the tree.  \n",
    "\n",
    "Using Trie, we can search the key in O(M) time. However, the penalty is on Trie storage requirements\n",
    "\n",
    "\n",
    "![trie](https://upload.wikimedia.org/wikipedia/commons/thumb/b/be/Trie_example.svg/375px-Trie_example.svg.png)"
   ]
  },
  {
   "cell_type": "markdown",
   "metadata": {},
   "source": [
    "```\n",
    " \n",
    "\n",
    "                       root\n",
    "                    /   \\    \\\n",
    "                    t   a     b\n",
    "                    |   |     |\n",
    "                    h   n     y\n",
    "                    |   |  \\  |\n",
    "                    e   s  y  e\n",
    "                 /  |   |\n",
    "                 i  r   w\n",
    "                 |  |   |\n",
    "                 r  e   e\n",
    "                        |\n",
    "                        r\n",
    "```"
   ]
  },
  {
   "cell_type": "markdown",
   "metadata": {},
   "source": [
    "### Trie Node"
   ]
  },
  {
   "cell_type": "code",
   "execution_count": 1,
   "metadata": {},
   "outputs": [],
   "source": [
    "class TrieNode:\n",
    "    def __init__(self):\n",
    "        self.children = {}\n",
    "        self.endOfString = False"
   ]
  },
  {
   "cell_type": "markdown",
   "metadata": {},
   "source": [
    "### Trie Class"
   ]
  },
  {
   "cell_type": "code",
   "execution_count": 2,
   "metadata": {},
   "outputs": [],
   "source": [
    "class Trie:\n",
    "    def __init__(self):\n",
    "        self.root = TrieNode()\n",
    "\n",
    "    def insertString(self, word):\n",
    "        current = self.root\n",
    "        for i in word:\n",
    "            ch = i\n",
    "            node = current.children.get(ch)\n",
    "            if node == None:\n",
    "                node = TrieNode()\n",
    "                current.children.update({ch: node})\n",
    "            current = node\n",
    "        current.endOfString = True\n",
    "        print(\"Successfully inserted\")\n",
    "\n",
    "    def searchString(self, word):\n",
    "        currentNode = self.root\n",
    "        for i in word:\n",
    "            node = currentNode.children.get(i)\n",
    "            if node == None:\n",
    "                return False\n",
    "            currentNode = node\n",
    "\n",
    "        if currentNode.endOfString == True:\n",
    "            return True\n",
    "        else:\n",
    "            return False\n",
    "\n",
    "\n",
    "def deleteString(root, word, index):\n",
    "    ch = word[index]\n",
    "    currentNode = root.children.get(ch)\n",
    "    canThisNodeBeDeleted = False\n",
    "\n",
    "    if len(currentNode.children) > 1:\n",
    "        deleteString(currentNode, word, index+1)\n",
    "        return False\n",
    "\n",
    "    if index == len(word) - 1:\n",
    "        if len(currentNode.children) >= 1:\n",
    "            currentNode.endOfString = False\n",
    "            return False\n",
    "        else:\n",
    "            root.children.pop(ch)\n",
    "            return True\n",
    "\n",
    "    if currentNode.endOfString == True:\n",
    "        deleteString(currentNode, word, index+1)\n",
    "        return False\n",
    "\n",
    "    canThisNodeBeDeleted = deleteString(currentNode, word, index+1)\n",
    "    if canThisNodeBeDeleted == True:\n",
    "        root.children.pop(ch)\n",
    "        return True\n",
    "    else:\n",
    "        return False"
   ]
  },
  {
   "cell_type": "code",
   "execution_count": 3,
   "metadata": {},
   "outputs": [
    {
     "name": "stdout",
     "output_type": "stream",
     "text": [
      "Successfully inserted\n",
      "Successfully inserted\n"
     ]
    }
   ],
   "source": [
    "newTrie = Trie()\n",
    "newTrie.insertString(\"App\")\n",
    "newTrie.insertString(\"Appl\")"
   ]
  },
  {
   "cell_type": "code",
   "execution_count": 4,
   "metadata": {},
   "outputs": [
    {
     "name": "stdout",
     "output_type": "stream",
     "text": [
      "True\n"
     ]
    }
   ],
   "source": [
    "print(newTrie.searchString(\"App\"))"
   ]
  },
  {
   "cell_type": "code",
   "execution_count": 5,
   "metadata": {},
   "outputs": [
    {
     "name": "stdout",
     "output_type": "stream",
     "text": [
      "True\n"
     ]
    }
   ],
   "source": [
    "print(newTrie.searchString(\"Appl\"))"
   ]
  },
  {
   "cell_type": "code",
   "execution_count": 6,
   "metadata": {},
   "outputs": [
    {
     "name": "stdout",
     "output_type": "stream",
     "text": [
      "False\n"
     ]
    }
   ],
   "source": [
    "print(newTrie.searchString(\"Apple\"))"
   ]
  },
  {
   "cell_type": "code",
   "execution_count": 7,
   "metadata": {},
   "outputs": [
    {
     "data": {
      "text/plain": [
       "False"
      ]
     },
     "execution_count": 7,
     "metadata": {},
     "output_type": "execute_result"
    }
   ],
   "source": [
    "deleteString(newTrie.root, \"App\", 0)"
   ]
  },
  {
   "cell_type": "code",
   "execution_count": 8,
   "metadata": {},
   "outputs": [
    {
     "name": "stdout",
     "output_type": "stream",
     "text": [
      "True\n"
     ]
    }
   ],
   "source": [
    "print(newTrie.searchString(\"Appl\"))"
   ]
  }
 ],
 "metadata": {
  "kernelspec": {
   "display_name": "Python 3.10.2 64-bit",
   "language": "python",
   "name": "python3"
  },
  "language_info": {
   "codemirror_mode": {
    "name": "ipython",
    "version": 3
   },
   "file_extension": ".py",
   "mimetype": "text/x-python",
   "name": "python",
   "nbconvert_exporter": "python",
   "pygments_lexer": "ipython3",
   "version": "3.10.2"
  },
  "orig_nbformat": 4,
  "vscode": {
   "interpreter": {
    "hash": "369f2c481f4da34e4445cda3fffd2e751bd1c4d706f27375911949ba6bb62e1c"
   }
  }
 },
 "nbformat": 4,
 "nbformat_minor": 2
}
