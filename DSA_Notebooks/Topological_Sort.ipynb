{
 "cells": [
  {
   "cell_type": "markdown",
   "metadata": {},
   "source": [
    "<h2 align=\"center\">Topological Sort</h2>"
   ]
  },
  {
   "cell_type": "markdown",
   "metadata": {},
   "source": [
    "## Creating a graph using default dict"
   ]
  },
  {
   "cell_type": "code",
   "execution_count": 1,
   "metadata": {},
   "outputs": [],
   "source": [
    "from collections import defaultdict"
   ]
  },
  {
   "cell_type": "code",
   "execution_count": 4,
   "metadata": {},
   "outputs": [],
   "source": [
    "class Graph:\n",
    "    def __init__(self,numberOfVertices):\n",
    "        self.graph = defaultdict(list)\n",
    "        self.numberOfVertices = numberOfVertices\n",
    "        \n",
    "    def addEdge(self, vertex, edge):\n",
    "        self.graph[vertex].append(edge)\n",
    "        \n",
    "    def topologicalSortUtils(self, v, visited, stack):\n",
    "        visited.append(v)\n",
    "        \n",
    "        for i in self.graph[v]:\n",
    "            if i not in visited:\n",
    "                self.topologicalSortUtils(i, visited, stack)\n",
    "                \n",
    "        stack.insert(0,v)\n",
    "        \n",
    "    \n",
    "    def topologicalSort(self):\n",
    "        visited = []\n",
    "        stack = []\n",
    "        \n",
    "        for k in list(self.graph):\n",
    "            if k not in visited:\n",
    "                self.topologicalSortUtils(k, visited, stack)\n",
    "        \n",
    "        print(stack)"
   ]
  },
  {
   "cell_type": "code",
   "execution_count": 7,
   "metadata": {},
   "outputs": [],
   "source": [
    "customGraph = Graph(8)\n",
    "customGraph.addEdge(\"A\", \"C\")\n",
    "customGraph.addEdge(\"C\", \"E\")\n",
    "customGraph.addEdge(\"E\", \"H\")\n",
    "customGraph.addEdge(\"E\", \"F\")\n",
    "customGraph.addEdge(\"F\", \"G\")\n",
    "customGraph.addEdge(\"B\", \"D\")\n",
    "customGraph.addEdge(\"B\", \"C\")\n",
    "customGraph.addEdge(\"D\", \"F\")\n",
    "\n",
    "\n"
   ]
  },
  {
   "cell_type": "code",
   "execution_count": 8,
   "metadata": {},
   "outputs": [
    {
     "name": "stdout",
     "output_type": "stream",
     "text": [
      "['B', 'D', 'A', 'C', 'E', 'F', 'G', 'H']\n"
     ]
    }
   ],
   "source": [
    "customGraph.topologicalSort()"
   ]
  }
 ],
 "metadata": {
  "kernelspec": {
   "display_name": "Python 3.10.2 64-bit",
   "language": "python",
   "name": "python3"
  },
  "language_info": {
   "codemirror_mode": {
    "name": "ipython",
    "version": 3
   },
   "file_extension": ".py",
   "mimetype": "text/x-python",
   "name": "python",
   "nbconvert_exporter": "python",
   "pygments_lexer": "ipython3",
   "version": "3.10.2"
  },
  "orig_nbformat": 4,
  "vscode": {
   "interpreter": {
    "hash": "369f2c481f4da34e4445cda3fffd2e751bd1c4d706f27375911949ba6bb62e1c"
   }
  }
 },
 "nbformat": 4,
 "nbformat_minor": 2
}
