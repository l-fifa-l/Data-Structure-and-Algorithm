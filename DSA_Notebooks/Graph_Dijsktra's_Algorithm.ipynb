{
 "cells": [
  {
   "cell_type": "markdown",
   "metadata": {},
   "source": [
    "<h1 align='center'>Dijsktra's Algorithm for Single Source Shortest Path</h1>"
   ]
  },
  {
   "cell_type": "markdown",
   "metadata": {},
   "source": [
    "Dijkstra’s Algorithm is also known as Single Source Shortest Path (SSSP) problem. It is used to find the shortest path from source node to destination node in graph.\n",
    "\n",
    "\n",
    "1. Dijkstra proposed an efficient way to find the single source shortest path from the weighted graph.\n",
    "\n",
    "2. For a given source vertex s, the algorithm finds the shortest path to every other vertex v in the graph.\n",
    "\n",
    "3. Assumption : Weight of all edges is non-negative."
   ]
  },
  {
   "cell_type": "markdown",
   "metadata": {},
   "source": [
    "## STEPS\n",
    "\n",
    "1.     Initializes the distance of source vertex to zero and remaining all other vertices to infinity.\n",
    "\n",
    "2.     Set source node to current node and put remaining all nodes in the list of unvisited vertex list. Compute the tentative distance of all immediate neighbour vertex of the current node.\n",
    "\n",
    "3.     If the newly computed value is smaller than the old value, then update it."
   ]
  },
  {
   "cell_type": "markdown",
   "metadata": {},
   "source": [
    "![Dijsktra's Algorithm for Single Source Shortest Path](http://andreagi.se/img/dijkstra.gif)"
   ]
  },
  {
   "cell_type": "markdown",
   "metadata": {},
   "source": [
    "## Create a graph class with weights"
   ]
  },
  {
   "cell_type": "code",
   "execution_count": 8,
   "metadata": {},
   "outputs": [],
   "source": [
    "from collections import defaultdict"
   ]
  },
  {
   "cell_type": "code",
   "execution_count": 10,
   "metadata": {},
   "outputs": [],
   "source": [
    "class Graph:\n",
    "    def __init__(self):\n",
    "        self.nodes = set()\n",
    "        self.edges = defaultdict(list)\n",
    "        self.distances = {}\n",
    "    \n",
    "    def addNode(self,value):\n",
    "        self.nodes.add(value)\n",
    "        \n",
    "    # Add edge with from Node, toNode, distance\n",
    "    def addEdge(self, fromNode, toNode, distance):\n",
    "        self.edges[fromNode].append(toNode)\n",
    "        self.distances[(fromNode, toNode)] = distance"
   ]
  },
  {
   "cell_type": "markdown",
   "metadata": {},
   "source": [
    "## Dijkstra Method"
   ]
  },
  {
   "cell_type": "code",
   "execution_count": 11,
   "metadata": {},
   "outputs": [],
   "source": [
    "def dijkstra(graph, initial):\n",
    "    visited = {initial : 0}\n",
    "    path = defaultdict(list)\n",
    "\n",
    "    nodes = set(graph.nodes)\n",
    "\n",
    "    while nodes:\n",
    "        minNode = None\n",
    "        for node in nodes:\n",
    "            if node in visited:\n",
    "                if minNode is None:\n",
    "                    minNode = node\n",
    "                elif visited[node] < visited[minNode]:\n",
    "                    minNode = node\n",
    "        if minNode is None:\n",
    "            break\n",
    "\n",
    "        nodes.remove(minNode)\n",
    "        currentWeight = visited[minNode]\n",
    "\n",
    "        for edge in graph.edges[minNode]:\n",
    "            weight = currentWeight + graph.distances[(minNode, edge)]\n",
    "            if edge not in visited or weight < visited[edge]:\n",
    "                visited[edge] = weight\n",
    "                path[edge].append(minNode)\n",
    "    \n",
    "    return visited, path"
   ]
  },
  {
   "cell_type": "markdown",
   "metadata": {},
   "source": [
    "## Add Edge and weights"
   ]
  },
  {
   "cell_type": "code",
   "execution_count": 12,
   "metadata": {},
   "outputs": [],
   "source": [
    "customGraph = Graph()\n",
    "customGraph.addNode(\"A\")\n",
    "customGraph.addNode(\"B\")\n",
    "customGraph.addNode(\"C\")\n",
    "customGraph.addNode(\"D\")\n",
    "customGraph.addNode(\"E\")\n",
    "customGraph.addNode(\"F\")\n",
    "customGraph.addNode(\"G\")\n",
    "customGraph.addEdge(\"A\", \"B\", 2)\n",
    "customGraph.addEdge(\"A\", \"C\", 5)\n",
    "customGraph.addEdge(\"B\", \"C\", 6)\n",
    "customGraph.addEdge(\"B\", \"D\", 1)\n",
    "customGraph.addEdge(\"B\", \"E\", 3)\n",
    "customGraph.addEdge(\"C\", \"F\", 8)\n",
    "customGraph.addEdge(\"D\", \"E\", 4)\n",
    "customGraph.addEdge(\"E\", \"G\", 9)\n",
    "customGraph.addEdge(\"F\", \"G\", 7)"
   ]
  },
  {
   "cell_type": "code",
   "execution_count": 13,
   "metadata": {},
   "outputs": [
    {
     "data": {
      "text/plain": [
       "({'A': 0, 'B': 2, 'C': 5, 'D': 3, 'E': 5, 'F': 13, 'G': 14},\n",
       " defaultdict(list,\n",
       "             {'B': ['A'],\n",
       "              'C': ['A'],\n",
       "              'D': ['B'],\n",
       "              'E': ['B'],\n",
       "              'F': ['C'],\n",
       "              'G': ['E']}))"
      ]
     },
     "execution_count": 13,
     "metadata": {},
     "output_type": "execute_result"
    }
   ],
   "source": [
    "dijkstra(customGraph, \"A\")"
   ]
  },
  {
   "cell_type": "markdown",
   "metadata": {},
   "source": [
    "## Dijsktra's Algorithm does not work with negative cycle"
   ]
  },
  {
   "cell_type": "markdown",
   "metadata": {},
   "source": [
    "> It will keep looping in a cycle and will not work "
   ]
  }
 ],
 "metadata": {
  "kernelspec": {
   "display_name": "Python 3.10.2 64-bit",
   "language": "python",
   "name": "python3"
  },
  "language_info": {
   "codemirror_mode": {
    "name": "ipython",
    "version": 3
   },
   "file_extension": ".py",
   "mimetype": "text/x-python",
   "name": "python",
   "nbconvert_exporter": "python",
   "pygments_lexer": "ipython3",
   "version": "3.10.2"
  },
  "orig_nbformat": 4,
  "vscode": {
   "interpreter": {
    "hash": "369f2c481f4da34e4445cda3fffd2e751bd1c4d706f27375911949ba6bb62e1c"
   }
  }
 },
 "nbformat": 4,
 "nbformat_minor": 2
}
