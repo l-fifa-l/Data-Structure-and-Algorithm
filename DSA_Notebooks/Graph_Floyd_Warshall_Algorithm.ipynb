{
 "cells": [
  {
   "cell_type": "markdown",
   "metadata": {},
   "source": [
    "<h1 align=\"center\">Floyd Warshall Algorithm</h1>"
   ]
  },
  {
   "cell_type": "markdown",
   "metadata": {},
   "source": [
    "<p>Floyd-Warshall Algorithm is an algorithm for finding the shortest path between all the pairs of vertices in a weighted graph. This algorithm works for both the directed and undirected weighted graphs. But, it does not work for the graphs with negative cycles (where the sum of the edges in a cycle is negative).</p>"
   ]
  },
  {
   "cell_type": "markdown",
   "metadata": {},
   "source": [
    "<h2>Steps</h2>\n"
   ]
  },
  {
   "cell_type": "markdown",
   "metadata": {},
   "source": [
    "    1. Create a matrix A0 of dimension n*n where n is the number of vertices. The row and the column are indexed as i and j respectively. i and j are the vertices of the graph.Each cell A[i][j] is filled with the distance from the ith vertex to the jth vertex. If there is no path from ith vertex to jth vertex, the cell is left as infinity.\n",
    "   ![](https://cdn.programiz.com/sites/tutorial2program/files/fw-Matrix-1.png)"
   ]
  },
  {
   "cell_type": "markdown",
   "metadata": {},
   "source": [
    "    2. Now, create a matrix A1 using matrix A0. The elements in the first column and the first row are left as they are. The remaining cells are filled in the following way.\n",
    "   \n",
    "     Let k be the intermediate vertex in the shortest path from source to destination. In this step, k is the first vertex. A[i][j] is filled with (A[i][k] + A[k][j]) if (A[i][j] > A[i][k] + A[k][j]).\n",
    "   \n",
    "     That is, if the direct distance from the source to the destination is greater than the path through the vertex k, then the cell is filled with A[i][k] + A[k][j].\n",
    "\n",
    "     In this step, k is vertex 1. We calculate the distance from source vertex to destination vertex through this vertex k.\n",
    "\n",
    "![](https://cdn.programiz.com/sites/tutorial2program/files/fw-Matrix-2.png)\n",
    "\n",
    "     For example: For A1[2, 4], the direct distance from vertex 2 to 4 is 4 and the sum of the distance from vertex 2 to 4 through vertex (ie. from vertex 2 to 1 and from vertex 1 to 4) is 7. Since 4 < 7, A0[2, 4] is filled with 4.\n"
   ]
  },
  {
   "cell_type": "markdown",
   "metadata": {},
   "source": [
    "    3. Similarly, A2 is created using A1. The elements in the second column and the second row are left as they are.\n",
    "\n",
    "    In this step, k is the second vertex (i.e. vertex 2). The remaining steps are the same as in step 2.\n",
    "\n",
    "![](https://cdn.programiz.com/sites/tutorial2program/files/fw-Matrix-3.png)"
   ]
  },
  {
   "cell_type": "markdown",
   "metadata": {},
   "source": [
    "    4. Similarly, A3 and A4 is also created.\n",
    "\n",
    "![](https://cdn.programiz.com/sites/tutorial2program/files/fw-Matrix-4.png)\n",
    "\n",
    "![](https://cdn.programiz.com/sites/tutorial2program/files/fw-Matrix-5.png)"
   ]
  },
  {
   "cell_type": "markdown",
   "metadata": {},
   "source": [
    "    5. A4 gives the shortest path between each pair of vertices."
   ]
  },
  {
   "cell_type": "markdown",
   "metadata": {},
   "source": [
    "## Print Solution function"
   ]
  },
  {
   "cell_type": "code",
   "execution_count": 1,
   "metadata": {},
   "outputs": [],
   "source": [
    "INF = 9999\n",
    "def printSolution(nV, distance):\n",
    "    for i in range(nV): \n",
    "        for j in range(nV):\n",
    "            if(distance[i][j] == INF):\n",
    "                print(\"INF\", end=\" \")\n",
    "            else:\n",
    "                print(distance[i][j], end=\"  \")\n",
    "        print(\" \")"
   ]
  },
  {
   "cell_type": "markdown",
   "metadata": {},
   "source": [
    "## Algo method"
   ]
  },
  {
   "cell_type": "code",
   "execution_count": 5,
   "metadata": {},
   "outputs": [],
   "source": [
    "def floydWarshall(nV, G):\n",
    "    distance = G\n",
    "    for k in range(nV):\n",
    "        for i in range(nV):\n",
    "            for j in range(nV):\n",
    "                distance[i][j] = min(distance[i][j], distance[i][k]+distance[k][j])\n",
    "    printSolution(nV, distance)"
   ]
  },
  {
   "cell_type": "markdown",
   "metadata": {},
   "source": [
    "## Create Graph"
   ]
  },
  {
   "cell_type": "code",
   "execution_count": 3,
   "metadata": {},
   "outputs": [],
   "source": [
    "G = [[0, 8, INF,1],\n",
    "    [INF, 0, 1,INF],\n",
    "    [4, INF, 0,INF],\n",
    "    [INF, 2, 9,1]\n",
    "    ]"
   ]
  },
  {
   "cell_type": "code",
   "execution_count": 6,
   "metadata": {},
   "outputs": [
    {
     "name": "stdout",
     "output_type": "stream",
     "text": [
      "0  3  4  1   \n",
      "5  0  1  6   \n",
      "4  7  0  5   \n",
      "7  2  3  1   \n"
     ]
    }
   ],
   "source": [
    "floydWarshall(4, G)"
   ]
  }
 ],
 "metadata": {
  "kernelspec": {
   "display_name": "Python 3.10.2 64-bit",
   "language": "python",
   "name": "python3"
  },
  "language_info": {
   "codemirror_mode": {
    "name": "ipython",
    "version": 3
   },
   "file_extension": ".py",
   "mimetype": "text/x-python",
   "name": "python",
   "nbconvert_exporter": "python",
   "pygments_lexer": "ipython3",
   "version": "3.10.2"
  },
  "orig_nbformat": 4,
  "vscode": {
   "interpreter": {
    "hash": "369f2c481f4da34e4445cda3fffd2e751bd1c4d706f27375911949ba6bb62e1c"
   }
  }
 },
 "nbformat": 4,
 "nbformat_minor": 2
}
