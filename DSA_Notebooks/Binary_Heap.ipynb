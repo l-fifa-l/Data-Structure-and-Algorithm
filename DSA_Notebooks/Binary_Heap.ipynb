{
 "cells": [
  {
   "cell_type": "markdown",
   "metadata": {},
   "source": [
    "<h1 align='center'>Binary Heap</h1>"
   ]
  },
  {
   "cell_type": "markdown",
   "metadata": {},
   "source": [
    "A Binary Heap is a Binary Tree with following properties.\n",
    "\n",
    "1) It’s a complete tree (All levels are completely filled except possibly the last level and the last level has all keys as left as possible). This property of Binary Heap makes them suitable to be stored in an array.\n",
    "\n",
    "2) A Binary Heap is either Min Heap or Max Heap. In a Min Binary Heap, the key at root must be minimum among all keys present in Binary Heap. The same property must be recursively true for all nodes in Binary Tree. Max Binary Heap is similar to MinHeap.\n",
    "\n",
    "```\n",
    "\n",
    "            10                      10\n",
    "         /      \\               /       \\  \n",
    "       20        100          15         30  \n",
    "      /                      /  \\        /  \\\n",
    "    30                     40    50    100   40\n",
    "\n",
    "```"
   ]
  },
  {
   "cell_type": "markdown",
   "metadata": {},
   "source": [
    "### How is Min Heap represented ? \n",
    "A Min Heap is a Complete Binary Tree. A Min heap is typically represented as an array. The root element will be at Arr[1].\n",
    "\n",
    "- Arr[x] returns its parent node.\n",
    "- Arr[2x] returns its left child node.\n",
    "- Arr[2x+1] returns its right child node.\n",
    "\n",
    "                    #### OR\n",
    "A Min Heap is a Complete Binary Tree. A Min heap is typically represented as an array. The root element will be at Arr[0]. For any ith node, i.e., Arr[i]:\n",
    "\n",
    "- Arr[(i -1) / 2] returns its parent node.\n",
    "- Arr[(2 * i) + 1] returns its left child node.\n",
    "- Arr[(2 * i) + 2] returns its right child node."
   ]
  },
  {
   "cell_type": "markdown",
   "metadata": {},
   "source": [
    "## Creating an Heap class"
   ]
  },
  {
   "cell_type": "code",
   "execution_count": 18,
   "metadata": {},
   "outputs": [],
   "source": [
    "class Heap:\n",
    "    def __init__(self, size):\n",
    "        self.customList = (size+1) * [None]\n",
    "        self.heapSize = 0\n",
    "        self.maxSize = size+1"
   ]
  },
  {
   "cell_type": "code",
   "execution_count": 19,
   "metadata": {},
   "outputs": [],
   "source": [
    "newBinaryHeap = Heap(5)"
   ]
  },
  {
   "cell_type": "markdown",
   "metadata": {},
   "source": [
    "#### Peek of heap"
   ]
  },
  {
   "cell_type": "code",
   "execution_count": 20,
   "metadata": {},
   "outputs": [],
   "source": [
    "def peekofHeap(rootNode):\n",
    "    if not rootNode:\n",
    "        return\n",
    "    else:\n",
    "        return rootNode.customList[1]"
   ]
  },
  {
   "cell_type": "markdown",
   "metadata": {},
   "source": [
    "#### Size of heap"
   ]
  },
  {
   "cell_type": "code",
   "execution_count": 21,
   "metadata": {},
   "outputs": [],
   "source": [
    "def sizeofHeap(rootNode):\n",
    "    if not rootNode:\n",
    "        return\n",
    "    else:\n",
    "        return rootNode.heapSize"
   ]
  },
  {
   "cell_type": "markdown",
   "metadata": {},
   "source": [
    "### Traversal\n",
    "##### Level Order Traversal"
   ]
  },
  {
   "cell_type": "code",
   "execution_count": 22,
   "metadata": {},
   "outputs": [],
   "source": [
    "def levelOrderTraversal(rootNode):\n",
    "    if not rootNode:\n",
    "        return\n",
    "    else:\n",
    "        for i in range(1, rootNode.heapSize+1):\n",
    "            print(rootNode.customList[i])"
   ]
  },
  {
   "cell_type": "markdown",
   "metadata": {},
   "source": [
    "### Insert Node in Binary Heap"
   ]
  },
  {
   "cell_type": "code",
   "execution_count": 23,
   "metadata": {},
   "outputs": [],
   "source": [
    "def heapifyTreeInsert(rootNode, index, heapType):\n",
    "    # Find the parent index\n",
    "    parentIndex = int(index/2)\n",
    "\n",
    "    # If index is less than or equal to 1 then return\n",
    "    if index <=1:\n",
    "        return\n",
    "    \n",
    "    # Heapify for Min Heap\n",
    "    if heapType == 'Min':\n",
    "        # If current Node is less than its parent\n",
    "        if rootNode.customList[index] < rootNode.customList[parentIndex]:\n",
    "        #swap them\n",
    "            # Create temp Node with value of current Node's Value\n",
    "            temp = rootNode.customList[index]\n",
    "            # Set current Node to Parent Node\n",
    "            rootNode.customList[index] = rootNode.customList[parentIndex]\n",
    "            # Set parent Node to temp node\n",
    "            rootNode.customList[parentIndex] = temp\n",
    "        # Call heapify Method recursively to ensure all node are heapified maintain the Min Heap\n",
    "        heapifyTreeInsert(rootNode, parentIndex, heapType)\n",
    "\n",
    "    elif heapType == \"Max\":\n",
    "        # If current Node is greater than its parent\n",
    "        if rootNode.customList[index] > rootNode.customList[parentIndex]:\n",
    "            # Create temp Node with value of current Node's Value\n",
    "            temp = rootNode.customList[index]\n",
    "            # Set current Node to Parent Node\n",
    "            rootNode.customList[index] = rootNode.customList[parentIndex]\n",
    "            # Set parent Node to temp node\n",
    "            rootNode.customList[parentIndex] = temp\n",
    "        # Call heapify Method recursively to ensure all node are heapified to maintain the Max Heap\n",
    "        heapifyTreeInsert(rootNode, parentIndex, heapType)\n",
    "\n",
    "\n",
    "def insertNode(rootNode, nodeValue, heapType):\n",
    "    # Check if heap is full\n",
    "    if rootNode.heapSize + 1 == rootNode.maxSize:\n",
    "        return \"The Binary Heap is Full\"\n",
    "    #\n",
    "    rootNode.customList[rootNode.heapSize + 1] = nodeValue\n",
    "    rootNode.heapSize += 1\n",
    "    heapifyTreeInsert(rootNode, rootNode.heapSize, heapType)\n",
    "    return \"The value has been successfully inserted\"\n",
    "\n",
    "    "
   ]
  },
  {
   "cell_type": "code",
   "execution_count": 24,
   "metadata": {},
   "outputs": [],
   "source": [
    "newHeap = Heap(5)"
   ]
  },
  {
   "cell_type": "code",
   "execution_count": 25,
   "metadata": {},
   "outputs": [
    {
     "data": {
      "text/plain": [
       "'The value has been successfully inserted'"
      ]
     },
     "execution_count": 25,
     "metadata": {},
     "output_type": "execute_result"
    }
   ],
   "source": [
    "insertNode(newHeap, 4, \"Max\")\n",
    "insertNode(newHeap, 5, \"Max\")\n",
    "insertNode(newHeap, 2, \"Max\")\n",
    "insertNode(newHeap, 1, \"Max\")"
   ]
  },
  {
   "cell_type": "code",
   "execution_count": 26,
   "metadata": {},
   "outputs": [
    {
     "name": "stdout",
     "output_type": "stream",
     "text": [
      "5\n",
      "4\n",
      "2\n",
      "1\n"
     ]
    }
   ],
   "source": [
    "levelOrderTraversal(newHeap)"
   ]
  },
  {
   "cell_type": "markdown",
   "metadata": {},
   "source": [
    "### Remove Element from Binary tree"
   ]
  },
  {
   "cell_type": "code",
   "execution_count": 27,
   "metadata": {},
   "outputs": [],
   "source": [
    "def heapifyTreeExtract(rootNode, index, heapType):\n",
    "    leftIndex = index * 2\n",
    "    rightIndex = index * 2 + 1\n",
    "    swapChild = 0\n",
    "\n",
    "    if rootNode.heapSize < leftIndex:\n",
    "        return\n",
    "    elif rootNode.heapSize == leftIndex:\n",
    "        if heapType == \"Min\":\n",
    "            if rootNode.customList[index] > rootNode.customList[leftIndex]:\n",
    "                temp = rootNode.customList[index]\n",
    "                rootNode.customList[index] = rootNode.customList[leftIndex]\n",
    "                rootNode.customList[leftIndex] = temp\n",
    "            return\n",
    "        else:\n",
    "            if rootNode.customList[index] < rootNode.customList[leftIndex]:\n",
    "                temp = rootNode.customList[index]\n",
    "                rootNode.customList[index] = rootNode.customList[leftIndex]\n",
    "                rootNode.customList[leftIndex] = temp\n",
    "            return\n",
    "\n",
    "    else:\n",
    "        if heapType == \"Min\":\n",
    "            if rootNode.customList[leftIndex] < rootNode.customList[rightIndex]:\n",
    "                swapChild = leftIndex\n",
    "            else:\n",
    "                swapChild = rightIndex\n",
    "            if rootNode.customList[index] > rootNode.customList[swapChild]:\n",
    "                temp = rootNode.customList[index]\n",
    "                rootNode.customList[index] = rootNode.customList[swapChild]\n",
    "                rootNode.customList[swapChild] = temp\n",
    "        else:\n",
    "            if rootNode.customList[leftIndex] > rootNode.customList[rightIndex]:\n",
    "                swapChild = leftIndex\n",
    "            else:\n",
    "                swapChild = rightIndex\n",
    "            if rootNode.customList[index] < rootNode.customList[swapChild]:\n",
    "                temp = rootNode.customList[index]\n",
    "                rootNode.customList[index] = rootNode.customList[swapChild]\n",
    "                rootNode.customList[swapChild] = temp\n",
    "    heapifyTreeExtract(rootNode, swapChild, heapType)"
   ]
  },
  {
   "cell_type": "code",
   "execution_count": 28,
   "metadata": {},
   "outputs": [],
   "source": [
    "def extractNode(rootNode, heapType):\n",
    "    if rootNode.heapSize == 0:\n",
    "        return\n",
    "    else:\n",
    "        extractedNode = rootNode.customList[1]\n",
    "        rootNode.customList[1] = rootNode.customList[rootNode.heapSize]\n",
    "        rootNode.customList[rootNode.heapSize] = None\n",
    "        rootNode.heapSize -= 1\n",
    "        heapifyTreeExtract(rootNode, 1, heapType)\n",
    "        return extractedNode"
   ]
  },
  {
   "cell_type": "code",
   "execution_count": 29,
   "metadata": {},
   "outputs": [
    {
     "data": {
      "text/plain": [
       "5"
      ]
     },
     "execution_count": 29,
     "metadata": {},
     "output_type": "execute_result"
    }
   ],
   "source": [
    "extractNode(newHeap, \"max\")"
   ]
  },
  {
   "cell_type": "code",
   "execution_count": 30,
   "metadata": {},
   "outputs": [
    {
     "name": "stdout",
     "output_type": "stream",
     "text": [
      "4\n",
      "1\n",
      "2\n"
     ]
    }
   ],
   "source": [
    "levelOrderTraversal(newHeap)"
   ]
  },
  {
   "cell_type": "markdown",
   "metadata": {},
   "source": [
    "### Delete Entire Binary Heap"
   ]
  },
  {
   "cell_type": "code",
   "execution_count": 31,
   "metadata": {},
   "outputs": [],
   "source": [
    "\n",
    "def deleteEntireBP(rootNode):\n",
    "    rootNode.customList = None"
   ]
  },
  {
   "cell_type": "code",
   "execution_count": 32,
   "metadata": {},
   "outputs": [],
   "source": [
    "deleteEntireBP(newHeap)"
   ]
  },
  {
   "cell_type": "code",
   "execution_count": 33,
   "metadata": {},
   "outputs": [
    {
     "ename": "TypeError",
     "evalue": "'NoneType' object is not subscriptable",
     "output_type": "error",
     "traceback": [
      "\u001b[1;31m---------------------------------------------------------------------------\u001b[0m",
      "\u001b[1;31mTypeError\u001b[0m                                 Traceback (most recent call last)",
      "\u001b[1;32mc:\\Users\\VIVEK\\Documents\\GitHub\\Data-Structure-and-Algorithm\\DSA_Notebooks\\Binary_Heap.ipynb Cell 26'\u001b[0m in \u001b[0;36m<cell line: 1>\u001b[1;34m()\u001b[0m\n\u001b[1;32m----> <a href='vscode-notebook-cell:/c%3A/Users/VIVEK/Documents/GitHub/Data-Structure-and-Algorithm/DSA_Notebooks/Binary_Heap.ipynb#ch0000025?line=0'>1</a>\u001b[0m levelOrderTraversal(newHeap)\n",
      "\u001b[1;32mc:\\Users\\VIVEK\\Documents\\GitHub\\Data-Structure-and-Algorithm\\DSA_Notebooks\\Binary_Heap.ipynb Cell 12'\u001b[0m in \u001b[0;36mlevelOrderTraversal\u001b[1;34m(rootNode)\u001b[0m\n\u001b[0;32m      <a href='vscode-notebook-cell:/c%3A/Users/VIVEK/Documents/GitHub/Data-Structure-and-Algorithm/DSA_Notebooks/Binary_Heap.ipynb#ch0000011?line=3'>4</a>\u001b[0m \u001b[39melse\u001b[39;00m:\n\u001b[0;32m      <a href='vscode-notebook-cell:/c%3A/Users/VIVEK/Documents/GitHub/Data-Structure-and-Algorithm/DSA_Notebooks/Binary_Heap.ipynb#ch0000011?line=4'>5</a>\u001b[0m     \u001b[39mfor\u001b[39;00m i \u001b[39min\u001b[39;00m \u001b[39mrange\u001b[39m(\u001b[39m1\u001b[39m, rootNode\u001b[39m.\u001b[39mheapSize\u001b[39m+\u001b[39m\u001b[39m1\u001b[39m):\n\u001b[1;32m----> <a href='vscode-notebook-cell:/c%3A/Users/VIVEK/Documents/GitHub/Data-Structure-and-Algorithm/DSA_Notebooks/Binary_Heap.ipynb#ch0000011?line=5'>6</a>\u001b[0m         \u001b[39mprint\u001b[39m(rootNode\u001b[39m.\u001b[39;49mcustomList[i])\n",
      "\u001b[1;31mTypeError\u001b[0m: 'NoneType' object is not subscriptable"
     ]
    }
   ],
   "source": [
    "levelOrderTraversal(newHeap)"
   ]
  }
 ],
 "metadata": {
  "kernelspec": {
   "display_name": "Python 3.10.2 64-bit",
   "language": "python",
   "name": "python3"
  },
  "language_info": {
   "codemirror_mode": {
    "name": "ipython",
    "version": 3
   },
   "file_extension": ".py",
   "mimetype": "text/x-python",
   "name": "python",
   "nbconvert_exporter": "python",
   "pygments_lexer": "ipython3",
   "version": "3.10.2"
  },
  "orig_nbformat": 4,
  "vscode": {
   "interpreter": {
    "hash": "369f2c481f4da34e4445cda3fffd2e751bd1c4d706f27375911949ba6bb62e1c"
   }
  }
 },
 "nbformat": 4,
 "nbformat_minor": 2
}
