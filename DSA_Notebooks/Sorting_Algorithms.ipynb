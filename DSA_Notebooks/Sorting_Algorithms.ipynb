{
 "cells": [
  {
   "cell_type": "markdown",
   "metadata": {},
   "source": [
    "<h2 align=\"center\">Merge Sort, Quicksort and Divide-n-Conquer Algorithms in Python</h2>"
   ]
  },
  {
   "cell_type": "markdown",
   "metadata": {},
   "source": [
    "> **QUESTION 1**: Write a program to sort a list of numbers."
   ]
  },
  {
   "cell_type": "markdown",
   "metadata": {},
   "source": [
    "### Bubble sort\n",
    "___\n",
    "It's easy to come up with a correct solution. Here's one: \n",
    "\n",
    "1. Iterate over the list of numbers, starting from the left\n",
    "2. Compare each number with the number that follows it\n",
    "3. If the number is greater than the one that follows it, swap the two elements\n",
    "4. Repeat steps 1 to 3 till the list is sorted."
   ]
  },
  {
   "cell_type": "markdown",
   "metadata": {},
   "source": [
    "\n",
    "![](https://upload.wikimedia.org/wikipedia/commons/c/c8/Bubble-sort-example-300px.gif)"
   ]
  },
  {
   "cell_type": "code",
   "execution_count": 1,
   "metadata": {},
   "outputs": [],
   "source": [
    "arr = [4, 2, 6, 3, 4, 6, 2, 1]"
   ]
  },
  {
   "cell_type": "code",
   "execution_count": 2,
   "metadata": {},
   "outputs": [],
   "source": [
    "def bubble_sort(arr):\n",
    "    for _ in range(len(arr)-1):\n",
    "        for i in range(len(arr)-1):\n",
    "            if arr[i]>arr[i+1]:\n",
    "                arr[i], arr[i+1]=arr[i+1], arr[i]\n",
    "    return arr"
   ]
  },
  {
   "cell_type": "code",
   "execution_count": 3,
   "metadata": {},
   "outputs": [
    {
     "data": {
      "text/plain": [
       "[1, 2, 2, 3, 4, 4, 6, 6]"
      ]
     },
     "execution_count": 3,
     "metadata": {},
     "output_type": "execute_result"
    }
   ],
   "source": [
    "bubble_sort(arr)"
   ]
  },
  {
   "cell_type": "markdown",
   "metadata": {},
   "source": [
    "\n",
    "```\n",
    "for _ in range(len(nums) - 1):\n",
    "    for i in range(len(nums) - 1):\n",
    "        if nums[i] > nums[i+1]:\n",
    "            nums[i], nums[i+1] = nums[i+1], nums[i]\n",
    "```\n",
    "\n",
    "There are two loops, each of length `n-1`, where `n` is the number of elements in `nums`. So the total number of comparisons is $(n-1)*(n-1)$ i.e. $(n-1)^2$ i.e. $n^2 - 2n + 1$. \n",
    "\n",
    "Expressing this in the Big O notation, we can conclude that the time complexity of bubble sort is $O(n^2)$ (also known as quadratic complexity).\n",
    "\n",
    "space co"
   ]
  },
  {
   "cell_type": "markdown",
   "metadata": {},
   "source": [
    "### Insertion Sort\n",
    "___\n",
    "To sort an array of size N in ascending order: \n",
    "\n",
    "1. Iterate from arr[1] to arr[N] over the array.\n",
    "2. Compare the current element (key) to its predecessor.\n",
    "3. If the key element is smaller than its predecessor, compare it to the elements before. Move the greater elements one.\n",
    "position up to make space for the swapped element."
   ]
  },
  {
   "cell_type": "markdown",
   "metadata": {},
   "source": [
    "![](https://i.pinimg.com/originals/92/b0/34/92b034385c440e08bc8551c97df0a2e3.gif)\n"
   ]
  },
  {
   "cell_type": "code",
   "execution_count": 4,
   "metadata": {},
   "outputs": [],
   "source": [
    "insertion_arr = [9, 5, 1, 4, 3]"
   ]
  },
  {
   "cell_type": "code",
   "execution_count": 5,
   "metadata": {},
   "outputs": [],
   "source": [
    "def insertion_sort(arr):\n",
    "    for i in range(1, len(arr)):\n",
    "        j=i\n",
    "        while arr[j-1]> arr[j] and j>0:\n",
    "            arr[j-1], arr[j] = arr[j], arr[j-1]\n",
    "            j-=1\n",
    "    return arr\n",
    "\n"
   ]
  },
  {
   "cell_type": "code",
   "execution_count": 6,
   "metadata": {},
   "outputs": [
    {
     "data": {
      "text/plain": [
       "[1, 3, 4, 5, 9]"
      ]
     },
     "execution_count": 6,
     "metadata": {},
     "output_type": "execute_result"
    }
   ],
   "source": [
    "insertion_sort(insertion_arr)"
   ]
  },
  {
   "cell_type": "markdown",
   "metadata": {},
   "source": [
    "# Divide and Conquer sorting algorithm"
   ]
  },
  {
   "cell_type": "markdown",
   "metadata": {},
   "source": [
    "1. Divide the inputs into two roughly equal parts.\n",
    "2. Recursively solve the problem individually for each of the two parts.\n",
    "3. Combine the results to solve the problem for the original inputs.\n",
    "4. Include terminating conditions for small or indivisible inputs.\n",
    "\n",
    "Here's a visual representation of the strategy:\n",
    "\n",
    "![](https://www.educative.io/api/edpresso/shot/5327356208087040/image/6475288173084672)"
   ]
  },
  {
   "cell_type": "markdown",
   "metadata": {},
   "source": [
    "### Merge sort"
   ]
  },
  {
   "cell_type": "markdown",
   "metadata": {},
   "source": [
    "Following a visual representation of the divide and conquer applied for sorting numbers. This algorithm is known as merge sort:\n",
    "\n",
    "\n",
    "<img src=\"https://upload.wikimedia.org/wikipedia/commons/thumb/e/e6/Merge_sort_algorithm_diagram.svg/2560px-Merge_sort_algorithm_diagram.svg.png\" width=\"480\">"
   ]
  },
  {
   "cell_type": "markdown",
   "metadata": {},
   "source": [
    "Here's a step-by-step description for merge sort:\n",
    "\n",
    "1. If the input list is empty or contains just one element, it is already sorted. Return it.\n",
    "2. If not, divide the list of numbers into two roughly equal parts.\n",
    "3. Sort each part recursively using the merge sort algorithm. You'll get back two sorted lists.\n",
    "4. Merge the two sorted lists to get a single sorted list"
   ]
  },
  {
   "cell_type": "code",
   "execution_count": 7,
   "metadata": {},
   "outputs": [],
   "source": [
    "mergesort_arr = [5, -12, 2, 6, 1, 23, 7, 7, -12]"
   ]
  },
  {
   "cell_type": "code",
   "execution_count": 8,
   "metadata": {},
   "outputs": [],
   "source": [
    "def mergesort(arr):\n",
    "    # Terminating condition (list of 0 or 1 elements)\n",
    "    if len(arr) <= 1:\n",
    "        return arr\n",
    "\n",
    "    # Get the midpoint\n",
    "    mid = len(arr) // 2\n",
    "\n",
    "    # Split the list into two halves\n",
    "    left = arr[:mid]\n",
    "    right = arr[mid:]\n",
    "\n",
    "    # Solve the problem for each half recursively\n",
    "    left_sorted, right_sorted = mergesort(left), mergesort(right)\n",
    "\n",
    "    # Combine the results of the two halves\n",
    "    sorted_arr = merge(left_sorted, right_sorted)\n",
    "\n",
    "    return sorted_arr"
   ]
  },
  {
   "cell_type": "markdown",
   "metadata": {},
   "source": [
    "Two merge two sorted arrays, we can repeatedly compare the two least elements of each array, and copy over the smaller one into a new array.\n",
    "\n",
    "Here's a visual representation of the merge operation:\n",
    "\n",
    "<img src=\"https://i.imgur.com/XeEpa0U.png\" width=\"480\">"
   ]
  },
  {
   "cell_type": "code",
   "execution_count": 9,
   "metadata": {},
   "outputs": [],
   "source": [
    "def merge(num1, num2):\n",
    "    #List to store the merge of two numbers\n",
    "    merged = []\n",
    "\n",
    "    #Indices pointer for interaction\n",
    "    i,j =0,0\n",
    "\n",
    "    #Loop over the two lists\n",
    "    while i < len(num1) and j<len(num2):\n",
    "        if num1[i] <=num2[j]:\n",
    "            merged.append(num1[i])\n",
    "            i+= 1\n",
    "        else:\n",
    "            merged.append(num2[j])    \n",
    "            j+= 1\n",
    "    \n",
    "    #Get the remaining parts\n",
    "    num1_rest = num1[i:]\n",
    "    num2_rest = num2[j:]\n",
    "\n",
    "    return merged+num1_rest+num2_rest"
   ]
  },
  {
   "cell_type": "code",
   "execution_count": 10,
   "metadata": {},
   "outputs": [
    {
     "data": {
      "text/plain": [
       "[-12, -12, 1, 2, 5, 6, 7, 7, 23]"
      ]
     },
     "execution_count": 10,
     "metadata": {},
     "output_type": "execute_result"
    }
   ],
   "source": [
    "mergesort(mergesort_arr)"
   ]
  },
  {
   "cell_type": "markdown",
   "metadata": {},
   "source": [
    "Time complexity of the merge sort algorithms is  𝑂(𝑛log𝑛) .\n",
    "\n",
    "Space complexity of merge sort is  𝑂(𝑛log𝑛) ."
   ]
  },
  {
   "cell_type": "markdown",
   "metadata": {},
   "source": [
    "### Quicksort"
   ]
  },
  {
   "cell_type": "markdown",
   "metadata": {},
   "source": [
    "The fact that merge sort requires allocating additional space as large as the input itself makes it somewhat slow in practice because memory allocation is far more expensive than comparisons or swapping.\n",
    "\n",
    "To overcome the space inefficiencies of merge sort, we'll study another divide-and-conquer based sorting algorithm called **quicksort**, which works as follows:\n",
    "\n",
    "1. If the list is empty or has just one element, return it. It's already sorted.\n",
    "2. Pick a random element from the list. This element is called a _pivot_.\n",
    "3. Reorder the list so that all elements with values less than or equal to the pivot come before the pivot, while all elements with values greater than the pivot come after it. This operation is called _partitioning_.\n",
    "4. The pivot element divides the array into two parts which can be sorted independently by making a recursive call to quicksort.\n",
    "\n",
    "![](https://images.deepai.org/glossary-terms/a5228ea07c794b468efd1b7f758b9ead/Quicksort.png)"
   ]
  },
  {
   "cell_type": "code",
   "execution_count": 16,
   "metadata": {},
   "outputs": [],
   "source": [
    "quicksort_arr = [1, 5, 6, 2, 0, 11, 3]"
   ]
  },
  {
   "cell_type": "code",
   "execution_count": 17,
   "metadata": {},
   "outputs": [],
   "source": [
    "def quicksort(arr, start=0, end=None):\n",
    "    if len(arr)<=1:\n",
    "        return arr\n",
    "    \n",
    "    if end is None:\n",
    "        end = len(arr)-1\n",
    "\n",
    "    if start < end :\n",
    "        piviot = partition(arr, start, end)\n",
    "        quicksort(arr, start, piviot-1)\n",
    "        quicksort(arr, piviot+1, end)\n",
    "\n",
    "    return arr"
   ]
  },
  {
   "cell_type": "markdown",
   "metadata": {},
   "source": [
    "Here's how the partition operation works([source](https://medium.com/basecs/pivoting-to-understand-quicksort-part-1-75178dfb9313)):\n",
    "\n",
    "<img src=\"https://i.imgur.com/Igk7Kr4.png\" width=\"420\">\n",
    "\n",
    "\n",
    "Here's an implementation of partition, which uses the last element of the list as a pivot:"
   ]
  },
  {
   "cell_type": "code",
   "execution_count": 18,
   "metadata": {},
   "outputs": [],
   "source": [
    "def partition(arr, start=0, end=None):\n",
    "    # print('partition', nums, start, end)\n",
    "    if end is None:\n",
    "        end = len(arr) - 1\n",
    "\n",
    "    # Initialize left and right pointer\n",
    "    l, r = 0, end-1\n",
    "\n",
    "    while r>l:\n",
    "        # Increment the left pointer if the nunmber is less than or equal to piviot\n",
    "        if arr[l]<=arr[end]:\n",
    "            l+=1\n",
    "        # Decrement the right pointer if the nunmber is greater than piviot\n",
    "        elif arr[r]> arr[end]:\n",
    "            r-=1\n",
    "\n",
    "        # Two out-of-place elements found, swap them\n",
    "        else:\n",
    "            arr[l], arr[r] = arr[r], arr[l]\n",
    "\n",
    "    # Place the pivot between the two parts\n",
    "    if arr[l] > arr[end]:\n",
    "        arr[l], arr[end] = arr[end], arr[l]\n",
    "        return l\n",
    "        \n",
    "    else:\n",
    "        return end\n",
    "\n"
   ]
  },
  {
   "cell_type": "code",
   "execution_count": 19,
   "metadata": {},
   "outputs": [
    {
     "data": {
      "text/plain": [
       "[0, 1, 2, 3, 5, 6, 11]"
      ]
     },
     "execution_count": 19,
     "metadata": {},
     "output_type": "execute_result"
    }
   ],
   "source": [
    "quicksort(quicksort_arr)"
   ]
  }
 ],
 "metadata": {
  "kernelspec": {
   "display_name": "Python 3.10.7 64-bit (microsoft store)",
   "language": "python",
   "name": "python3"
  },
  "language_info": {
   "codemirror_mode": {
    "name": "ipython",
    "version": 3
   },
   "file_extension": ".py",
   "mimetype": "text/x-python",
   "name": "python",
   "nbconvert_exporter": "python",
   "pygments_lexer": "ipython3",
   "version": "3.10.7"
  },
  "orig_nbformat": 4,
  "vscode": {
   "interpreter": {
    "hash": "a184b04f7e4cfe8ad73578cf659e38bf16860da1fe2b411d933321707ccf3233"
   }
  }
 },
 "nbformat": 4,
 "nbformat_minor": 2
}
