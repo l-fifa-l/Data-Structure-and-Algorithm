{
 "cells": [
  {
   "cell_type": "markdown",
   "metadata": {},
   "source": [
    "<h1 align='center'>Graph</h1>"
   ]
  },
  {
   "cell_type": "markdown",
   "metadata": {},
   "source": [
    "## Graphs in the Real World\n",
    "\n",
    "### Railway network\n",
    "\n",
    "![](https://i.imgur.com/uSF6AEJ.png)\n",
    "\n",
    "### Flight routes\n",
    "\n",
    "![](https://www.mapsales.com/products/mapsofworld/images/zoom/world-air-route-wall-map.gif)\n",
    "\n",
    "### Hyperlinks\n",
    "\n",
    "![](https://i.imgur.com/hlGDYn2.png)"
   ]
  },
  {
   "cell_type": "markdown",
   "metadata": {},
   "source": [
    "## Graph Data Strucutre\n",
    "\n",
    "![](https://i.imgur.com/xkgMnwx.png)"
   ]
  },
  {
   "cell_type": "markdown",
   "metadata": {},
   "source": [
    "### Adjacency Lists\n",
    "\n",
    "![](https://i.imgur.com/rgMwkIW.png)\n",
    "\n",
    "Use adjacency list when the number of edges are few."
   ]
  },
  {
   "cell_type": "markdown",
   "metadata": {},
   "source": [
    "> **Question**: Create a class to represent a graph as an adjacency list in Python"
   ]
  },
  {
   "cell_type": "code",
   "execution_count": 1,
   "metadata": {},
   "outputs": [],
   "source": [
    "num_nodes = 5\n",
    "edges = [(0,1), (0,4),(1,2),(1,3),(1,4),(2,3),(3,4)]"
   ]
  },
  {
   "cell_type": "code",
   "execution_count": 2,
   "metadata": {},
   "outputs": [],
   "source": [
    "class Graph:\n",
    "    def __init__(self, num_nodes, edges):\n",
    "        self.num_nodes = num_nodes\n",
    "        self.data = [[] for _ in range(num_nodes)]\n",
    "        for n1, n2 in edges:\n",
    "            self.data[n1].append(n2)\n",
    "            self.data[n2].append(n1)\n",
    "            \n",
    "    def __repr__(self):\n",
    "        return \"\\n\".join([f'{n} --> {neighbors}' for n, neighbors in enumerate(self.data)])\n",
    "\n",
    "    def __self__(self):\n",
    "        return self.__repr__()\n",
    "    \n",
    "    def add_edge(self, n1, n2):\n",
    "        self.data[n1].append(n2)\n",
    "        self.data[n2].append(n1)\n",
    "\n",
    "    def remove_edge(self, n1, n2):\n",
    "        for i in range(len(self.data[n1])):\n",
    "            if (self.data[n1][i] == n2):\n",
    "                self.data[n1].pop(i)\n",
    "                break\n",
    "\n",
    "        \n",
    "        for i in range(len(self.data[n2])):\n",
    "            if (self.data[n2][i] == n1):\n",
    "                self.data[n2].pop(i)\n",
    "                break"
   ]
  },
  {
   "cell_type": "code",
   "execution_count": 3,
   "metadata": {},
   "outputs": [],
   "source": [
    "graph1 = Graph(num_nodes, edges)"
   ]
  },
  {
   "cell_type": "markdown",
   "metadata": {},
   "source": [
    "> **Question**: Write a function to represent graph in adjacency list."
   ]
  },
  {
   "cell_type": "markdown",
   "metadata": {},
   "source": [
    "```\n",
    "    def __repr__(self):\n",
    "        return \"\\n\".join([f'{n} --> {neighbors}' for n, neighbors in enumerate(self.data)])\n",
    "\n",
    "    def __self__(self):\n",
    "        return self.__repr__()\n",
    "```"
   ]
  },
  {
   "cell_type": "code",
   "execution_count": 4,
   "metadata": {},
   "outputs": [
    {
     "data": {
      "text/plain": [
       "0 --> [1, 4]\n",
       "1 --> [0, 2, 3, 4]\n",
       "2 --> [1, 3]\n",
       "3 --> [1, 2, 4]\n",
       "4 --> [0, 1, 3]"
      ]
     },
     "execution_count": 4,
     "metadata": {},
     "output_type": "execute_result"
    }
   ],
   "source": [
    "graph1"
   ]
  },
  {
   "cell_type": "markdown",
   "metadata": {},
   "source": [
    "> **Question**: Write a function to add an edge to a graph represented as an adjacency list. "
   ]
  },
  {
   "cell_type": "markdown",
   "metadata": {},
   "source": [
    "```\n",
    "    def add_edge(self, n1, n2):\n",
    "        self.data[n1].append(n2)\n",
    "        self.data[n2].append(n1)\n",
    "```"
   ]
  },
  {
   "cell_type": "code",
   "execution_count": 5,
   "metadata": {},
   "outputs": [],
   "source": [
    "graph1.add_edge( 0, 3)"
   ]
  },
  {
   "cell_type": "code",
   "execution_count": 6,
   "metadata": {},
   "outputs": [
    {
     "data": {
      "text/plain": [
       "0 --> [1, 4, 3]\n",
       "1 --> [0, 2, 3, 4]\n",
       "2 --> [1, 3]\n",
       "3 --> [1, 2, 4, 0]\n",
       "4 --> [0, 1, 3]"
      ]
     },
     "execution_count": 6,
     "metadata": {},
     "output_type": "execute_result"
    }
   ],
   "source": [
    "graph1"
   ]
  },
  {
   "cell_type": "markdown",
   "metadata": {},
   "source": [
    "> **Question**: Write a function to remove an edge from a graph represented as a adjacency list."
   ]
  },
  {
   "cell_type": "markdown",
   "metadata": {},
   "source": [
    "```\n",
    "    def remove_edge(self, n1, n2):\n",
    "        for i in range(len(self.data[n1])):\n",
    "            if (self.data[n1][i] == n2):\n",
    "                self.data[n1].pop(i)\n",
    "                break\n",
    "\n",
    "        \n",
    "        for i in range(len(self.data[n2])):\n",
    "            if (self.data[n2][i] == n1):\n",
    "                self.data[n2].pop(i)\n",
    "                break\n",
    "```"
   ]
  },
  {
   "cell_type": "code",
   "execution_count": 7,
   "metadata": {},
   "outputs": [],
   "source": [
    "graph1.remove_edge(0, 3)"
   ]
  },
  {
   "cell_type": "code",
   "execution_count": 8,
   "metadata": {},
   "outputs": [
    {
     "data": {
      "text/plain": [
       "0 --> [1, 4]\n",
       "1 --> [0, 2, 3, 4]\n",
       "2 --> [1, 3]\n",
       "3 --> [1, 2, 4]\n",
       "4 --> [0, 1, 3]"
      ]
     },
     "execution_count": 8,
     "metadata": {},
     "output_type": "execute_result"
    }
   ],
   "source": [
    "graph1"
   ]
  },
  {
   "cell_type": "markdown",
   "metadata": {},
   "source": [
    "### Adjacency Matrix\n",
    "\n",
    "![](https://i.imgur.com/oswYKTW.png)\n",
    "\n",
    "Use adjacency matrix when the graph is complete or almost complete"
   ]
  },
  {
   "cell_type": "markdown",
   "metadata": {},
   "source": [
    "# Graph"
   ]
  },
  {
   "cell_type": "markdown",
   "metadata": {},
   "source": [
    "## Representation of GRAPH"
   ]
  },
  {
   "cell_type": "markdown",
   "metadata": {},
   "source": [
    "- Using dictionary\n",
    "\n",
    "- Adjencency List"
   ]
  },
  {
   "cell_type": "code",
   "execution_count": 16,
   "metadata": {},
   "outputs": [],
   "source": [
    "class Graph:\n",
    "    def __init__(self, gdict = None):\n",
    "        if gdict is None:\n",
    "            gdict = {}\n",
    "        # else\n",
    "        self.gdict = gdict\n",
    "\n",
    "    def add_edge(self, v, e):\n",
    "        self.gdict[v].append(e)\n",
    "\n",
    "    def bfs(self, vertex):\n",
    "        visited = [vertex]\n",
    "        queue = [vertex]\n",
    "        while queue:\n",
    "            dequeue = queue.pop(0)\n",
    "            print(dequeue)\n",
    "            for adjacentVertex in self.gdict[dequeue]:\n",
    "                if adjacentVertex not in visited:\n",
    "                    visited.append(adjacentVertex)\n",
    "                    queue.append(adjacentVertex)\n",
    "\n",
    "    def dfs(self, vertex):\n",
    "        visited = [vertex]\n",
    "        stack = [vertex]\n",
    "        while stack:\n",
    "            pop_vertex = stack.pop()\n",
    "            print(pop_vertex)\n",
    "            for adjacentVertex in self.gdict[pop_vertex]:\n",
    "                if adjacentVertex not in visited:\n",
    "                    visited.append(adjacentVertex)\n",
    "                    stack.append(adjacentVertex)"
   ]
  },
  {
   "cell_type": "markdown",
   "metadata": {},
   "source": [
    "Make a custom dictionary"
   ]
  },
  {
   "cell_type": "code",
   "execution_count": 17,
   "metadata": {},
   "outputs": [],
   "source": [
    "customDict = { \"a\" : [\"b\",\"c\"],\n",
    "            \"b\" : [\"a\", \"d\", \"e\"],\n",
    "            \"c\" : [\"a\", \"e\"],\n",
    "            \"d\" : [\"b\", \"e\", \"f\"],\n",
    "            \"e\" : [\"d\", \"f\", \"c\"],\n",
    "            \"f\" : [\"d\", \"e\"]\n",
    "               }"
   ]
  },
  {
   "cell_type": "code",
   "execution_count": 18,
   "metadata": {},
   "outputs": [],
   "source": [
    "gph = Graph(customDict)"
   ]
  },
  {
   "cell_type": "code",
   "execution_count": 19,
   "metadata": {},
   "outputs": [
    {
     "name": "stdout",
     "output_type": "stream",
     "text": [
      "{'a': ['b', 'c'], 'b': ['a', 'd', 'e'], 'c': ['a', 'e'], 'd': ['b', 'e', 'f'], 'e': ['d', 'f', 'c'], 'f': ['d', 'e']}\n"
     ]
    }
   ],
   "source": [
    "print(gph.gdict)"
   ]
  },
  {
   "cell_type": "markdown",
   "metadata": {},
   "source": [
    "## BFS"
   ]
  },
  {
   "cell_type": "markdown",
   "metadata": {},
   "source": [
    "```\n",
    "def bfs(self, vertex):\n",
    "    visited = [vertex]\n",
    "    queue = [vertex]\n",
    "    while queue:\n",
    "        dequeue = queue.pop(0)\n",
    "        print(dequeue)\n",
    "        for adjacentVertex in self.gdict[dequeue]:\n",
    "            if adjacentVertex not in visited:\n",
    "                visited.append(adjacentVertex)\n",
    "                queue.append(adjacentVertex)\n",
    "```"
   ]
  },
  {
   "cell_type": "code",
   "execution_count": 20,
   "metadata": {},
   "outputs": [
    {
     "name": "stdout",
     "output_type": "stream",
     "text": [
      "a\n",
      "b\n",
      "c\n",
      "d\n",
      "e\n",
      "f\n"
     ]
    }
   ],
   "source": [
    "gph.bfs(\"a\")"
   ]
  },
  {
   "cell_type": "markdown",
   "metadata": {},
   "source": [
    "```\n",
    "def dfs(self, vertex):\n",
    "    visited = [vertex]\n",
    "    stack = [vertex]\n",
    "    while stack:\n",
    "        pop_vertex = stack.pop()\n",
    "        print(pop_vertex)\n",
    "        for adjacentVertex in self.gdict[pop_vertex]:\n",
    "            if adjacentVertex not in visited:\n",
    "                visited.append(adjacentVertex)\n",
    "                stack.append(adjacentVertex)\n",
    "```"
   ]
  },
  {
   "cell_type": "code",
   "execution_count": 21,
   "metadata": {},
   "outputs": [
    {
     "name": "stdout",
     "output_type": "stream",
     "text": [
      "a\n",
      "c\n",
      "e\n",
      "f\n",
      "d\n",
      "b\n"
     ]
    }
   ],
   "source": [
    "gph.dfs('a')"
   ]
  }
 ],
 "metadata": {
  "kernelspec": {
   "display_name": "Python 3.10.2 64-bit",
   "language": "python",
   "name": "python3"
  },
  "language_info": {
   "codemirror_mode": {
    "name": "ipython",
    "version": 3
   },
   "file_extension": ".py",
   "mimetype": "text/x-python",
   "name": "python",
   "nbconvert_exporter": "python",
   "pygments_lexer": "ipython3",
   "version": "3.10.2"
  },
  "orig_nbformat": 4,
  "vscode": {
   "interpreter": {
    "hash": "369f2c481f4da34e4445cda3fffd2e751bd1c4d706f27375911949ba6bb62e1c"
   }
  }
 },
 "nbformat": 4,
 "nbformat_minor": 2
}
