{
 "cells": [
  {
   "cell_type": "code",
   "execution_count": 1,
   "metadata": {},
   "outputs": [],
   "source": [
    "class Node:\n",
    "    def __init__(self, value):\n",
    "        self.value = value\n",
    "        self.next = None"
   ]
  },
  {
   "cell_type": "code",
   "execution_count": 2,
   "metadata": {},
   "outputs": [],
   "source": [
    "class LinkedList:\n",
    "    def __init__(self):\n",
    "        self.head = None\n",
    "    \n",
    "    def __iter__(self):\n",
    "        current = self.head\n",
    "        while current:\n",
    "            yield current.value\n",
    "            current = current.next\n",
    "    \n",
    "    def prepend(self, value):\n",
    "        node = Node(value)\n",
    "        if self.head == None:\n",
    "            self.head = node \n",
    "        else:\n",
    "            node.next = self.head\n",
    "            self.head = node \n",
    "        \n",
    "    def append(self, value):\n",
    "        node = Node(value)\n",
    "        if self.head == None:\n",
    "            self.head = node\n",
    "        else:\n",
    "            last = self.head\n",
    "            while (last.next):\n",
    "                last = last.next\n",
    "            last.next = node \n",
    "    \n",
    "    def insert(self, value, at):\n",
    "        node = Node(value)\n",
    "        if self.head == None:\n",
    "            self.head = node \n",
    "        else:\n",
    "            temp = self.head\n",
    "            index = 0\n",
    "            while index< at-1:\n",
    "                temp = temp.next\n",
    "                index+=1\n",
    "            node.next = temp.next\n",
    "            temp.next = node\n",
    "        \n",
    "    def traverse(self):\n",
    "        if self.head == None:\n",
    "            return \"Linked List Not Found\"\n",
    "        else:\n",
    "            current = self.head\n",
    "            while current:\n",
    "                print(current.value+\"=>\" , end=\" \")\n",
    "                current = current.next\n",
    "\n",
    "    def search(self, value):\n",
    "        if self.head ==None:\n",
    "            return \"No Linked List Is Present\"\n",
    "        else:\n",
    "            current = head.self\n",
    "            index = 0\n",
    "            while current:\n",
    "                if current.value == value:\n",
    "                    return index\n",
    "                current = current.next\n",
    "                index+=1\n"
   ]
  },
  {
   "cell_type": "code",
   "execution_count": 3,
   "metadata": {},
   "outputs": [],
   "source": [
    "ll = LinkedList()"
   ]
  },
  {
   "cell_type": "code",
   "execution_count": 4,
   "metadata": {},
   "outputs": [],
   "source": [
    "ll.append(\"0\")"
   ]
  },
  {
   "cell_type": "code",
   "execution_count": 5,
   "metadata": {},
   "outputs": [
    {
     "data": {
      "text/plain": [
       "['0']"
      ]
     },
     "execution_count": 5,
     "metadata": {},
     "output_type": "execute_result"
    }
   ],
   "source": [
    "list(ll)"
   ]
  },
  {
   "cell_type": "code",
   "execution_count": 6,
   "metadata": {},
   "outputs": [],
   "source": [
    "ll.prepend(\"1\")"
   ]
  },
  {
   "cell_type": "code",
   "execution_count": 7,
   "metadata": {},
   "outputs": [
    {
     "data": {
      "text/plain": [
       "['1', '0']"
      ]
     },
     "execution_count": 7,
     "metadata": {},
     "output_type": "execute_result"
    }
   ],
   "source": [
    "list(ll)"
   ]
  },
  {
   "cell_type": "code",
   "execution_count": 8,
   "metadata": {},
   "outputs": [],
   "source": [
    "ll.insert(\"9\", 1)"
   ]
  },
  {
   "cell_type": "code",
   "execution_count": 9,
   "metadata": {},
   "outputs": [
    {
     "data": {
      "text/plain": [
       "['1', '9', '0']"
      ]
     },
     "execution_count": 9,
     "metadata": {},
     "output_type": "execute_result"
    }
   ],
   "source": [
    "list(ll)"
   ]
  },
  {
   "cell_type": "code",
   "execution_count": 10,
   "metadata": {},
   "outputs": [
    {
     "name": "stdout",
     "output_type": "stream",
     "text": [
      "1=> 9=> 0=> "
     ]
    }
   ],
   "source": [
    "ll.traverse()"
   ]
  }
 ],
 "metadata": {
  "kernelspec": {
   "display_name": "Python 3.10.2 64-bit",
   "language": "python",
   "name": "python3"
  },
  "language_info": {
   "codemirror_mode": {
    "name": "ipython",
    "version": 3
   },
   "file_extension": ".py",
   "mimetype": "text/x-python",
   "name": "python",
   "nbconvert_exporter": "python",
   "pygments_lexer": "ipython3",
   "version": "3.10.2"
  },
  "orig_nbformat": 4,
  "vscode": {
   "interpreter": {
    "hash": "369f2c481f4da34e4445cda3fffd2e751bd1c4d706f27375911949ba6bb62e1c"
   }
  }
 },
 "nbformat": 4,
 "nbformat_minor": 2
}
