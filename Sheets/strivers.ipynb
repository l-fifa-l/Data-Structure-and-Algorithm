{
 "cells": [
  {
   "cell_type": "markdown",
   "metadata": {},
   "source": [
    "<h1 align='center'>Striver’s SDE Sheet</h1>"
   ]
  },
  {
   "cell_type": "markdown",
   "metadata": {},
   "source": [
    "## User Input"
   ]
  },
  {
   "cell_type": "code",
   "execution_count": 3,
   "metadata": {},
   "outputs": [
    {
     "name": "stdout",
     "output_type": "stream",
     "text": [
      "dfghj\n",
      "<class 'str'>\n"
     ]
    }
   ],
   "source": [
    "# User input string\n",
    "string = input(\"Enter a string\")\n",
    "print(string)\n",
    "print(type(string))"
   ]
  },
  {
   "cell_type": "code",
   "execution_count": 5,
   "metadata": {},
   "outputs": [
    {
     "name": "stdout",
     "output_type": "stream",
     "text": [
      "7\n",
      "<class 'int'>\n"
     ]
    }
   ],
   "source": [
    "# User input integer\n",
    "integer = int(input(\"Enter an integer\"))\n",
    "print(integer)\n",
    "print(type(integer))"
   ]
  },
  {
   "cell_type": "code",
   "execution_count": 7,
   "metadata": {},
   "outputs": [
    {
     "name": "stdout",
     "output_type": "stream",
     "text": [
      "6.8\n",
      "<class 'float'>\n"
     ]
    }
   ],
   "source": [
    "# User input float\n",
    "float = float(input(\"Enter an float\"))\n",
    "print(float)\n",
    "print(type(float))"
   ]
  },
  {
   "cell_type": "code",
   "execution_count": 10,
   "metadata": {},
   "outputs": [
    {
     "name": "stdout",
     "output_type": "stream",
     "text": [
      "[1, 2, 3, 4, 5, 6, 7, 8, 9]\n",
      "<class 'list'>\n"
     ]
    }
   ],
   "source": [
    "# User input integer list/array\n",
    "arr_list = [int(item) for item in input(\"Enter integer list\").split()]\n",
    "print(arr_list)\n",
    "print(type(arr_list))"
   ]
  },
  {
   "cell_type": "code",
   "execution_count": 12,
   "metadata": {},
   "outputs": [
    {
     "name": "stdout",
     "output_type": "stream",
     "text": [
      "['swfdr', 'etgthr', 'srge']\n",
      "<class 'list'>\n"
     ]
    }
   ],
   "source": [
    "# User input string list/array\n",
    "arr_str = [item for item in input(\"Enter string list\").split()]\n",
    "print(arr_str)\n",
    "print(type(arr_str))"
   ]
  },
  {
   "cell_type": "markdown",
   "metadata": {},
   "source": []
  },
  {
   "cell_type": "markdown",
   "metadata": {},
   "source": []
  },
  {
   "cell_type": "markdown",
   "metadata": {},
   "source": []
  },
  {
   "cell_type": "markdown",
   "metadata": {},
   "source": [
    "## Pattern printing"
   ]
  },
  {
   "cell_type": "markdown",
   "metadata": {},
   "source": [
    "### Print this pattern\n",
    "\n",
    "```\n",
    "* * * * * \n",
    "* * * * * \n",
    "* * * * * \n",
    "* * * * * \n",
    "* * * * *\n",
    "```"
   ]
  },
  {
   "cell_type": "code",
   "execution_count": 23,
   "metadata": {},
   "outputs": [
    {
     "name": "stdout",
     "output_type": "stream",
     "text": [
      "* * * * * \n",
      "* * * * * \n",
      "* * * * * \n",
      "* * * * * \n",
      "* * * * * \n"
     ]
    }
   ],
   "source": [
    "for i in range(5):\n",
    "    for j in range(5):\n",
    "        print(\"*\", end=' ')\n",
    "    print('')\n",
    "    "
   ]
  },
  {
   "cell_type": "markdown",
   "metadata": {},
   "source": [
    "### Print this pattern\n",
    "\n",
    "```\n",
    "* \n",
    "* * \n",
    "* * * \n",
    "* * * * \n",
    "* * * * * \n",
    "```"
   ]
  },
  {
   "cell_type": "code",
   "execution_count": 29,
   "metadata": {},
   "outputs": [
    {
     "name": "stdout",
     "output_type": "stream",
     "text": [
      "* \n",
      "* * \n",
      "* * * \n",
      "* * * * \n",
      "* * * * * \n"
     ]
    }
   ],
   "source": [
    "for i in range(0,5):\n",
    "    for j in range(0,i+1):\n",
    "        print(\"*\", end=' ')\n",
    "    print('')"
   ]
  },
  {
   "cell_type": "markdown",
   "metadata": {},
   "source": [
    "### Print this pattern\n",
    "\n",
    "```\n",
    "1 \n",
    "1 2 \n",
    "1 2 3 \n",
    "1 2 3 4 \n",
    "1 2 3 4 5\n",
    "```"
   ]
  },
  {
   "cell_type": "code",
   "execution_count": 54,
   "metadata": {},
   "outputs": [
    {
     "name": "stdout",
     "output_type": "stream",
     "text": [
      "1 \n",
      "1 2 \n",
      "1 2 3 \n",
      "1 2 3 4 \n",
      "1 2 3 4 5 \n"
     ]
    }
   ],
   "source": [
    "for i in range(5):\n",
    "    num = 1\n",
    "    for j in range(0,i+1):\n",
    "        print( num, end=\" \" )\n",
    "        num+=1\n",
    "    print(\"\")"
   ]
  },
  {
   "cell_type": "markdown",
   "metadata": {},
   "source": [
    "### Print this pattern\n",
    "\n",
    "```\n",
    "1  \n",
    "2 2  \n",
    "3 3 3  \n",
    "4 4 4 4  \n",
    "5 5 5 5 5 \n",
    "```\n"
   ]
  },
  {
   "cell_type": "code",
   "execution_count": 62,
   "metadata": {},
   "outputs": [
    {
     "name": "stdout",
     "output_type": "stream",
     "text": [
      "1  \n",
      "2 2  \n",
      "3 3 3  \n",
      "4 4 4 4  \n",
      "5 5 5 5 5  \n"
     ]
    }
   ],
   "source": [
    "for i in range(1,6):\n",
    "    for j in range(i):\n",
    "        print(i, end=\" \")\n",
    "    print(' ')"
   ]
  },
  {
   "cell_type": "markdown",
   "metadata": {},
   "source": [
    "### Print the pattern\n",
    "\n",
    "```\n",
    "* * * * * \n",
    "* * * * \n",
    "* * * \n",
    "* * \n",
    "*\n",
    "```"
   ]
  },
  {
   "cell_type": "code",
   "execution_count": 63,
   "metadata": {},
   "outputs": [
    {
     "name": "stdout",
     "output_type": "stream",
     "text": [
      "* * * * * \n",
      "* * * * \n",
      "* * * \n",
      "* * \n",
      "* \n"
     ]
    }
   ],
   "source": [
    "for i in range(5,0,-1):\n",
    "    for j in range(i):\n",
    "        print(\"*\", end=\" \")\n",
    "    print('')"
   ]
  },
  {
   "cell_type": "markdown",
   "metadata": {},
   "source": [
    "### Print this pattern\n",
    "\n",
    "```\n",
    "1 2 3 4 5 \n",
    "1 2 3 4 \n",
    "1 2 3 \n",
    "1 2 \n",
    "1 \n",
    "```"
   ]
  },
  {
   "cell_type": "code",
   "execution_count": 66,
   "metadata": {},
   "outputs": [
    {
     "name": "stdout",
     "output_type": "stream",
     "text": [
      "1 2 3 4 5 \n",
      "1 2 3 4 \n",
      "1 2 3 \n",
      "1 2 \n",
      "1 \n"
     ]
    }
   ],
   "source": [
    "for i in range(5,0,-1):\n",
    "    num = 1\n",
    "    for j in range(i):\n",
    "        print(num, end=\" \")\n",
    "        num+=1\n",
    "    print('')"
   ]
  },
  {
   "cell_type": "markdown",
   "metadata": {},
   "source": [
    "### Print this pattern\n",
    "\n",
    "```\n",
    "     * \n",
    "    * * \n",
    "   * * * \n",
    "  * * * * \n",
    " * * * * * \n",
    " ```"
   ]
  },
  {
   "cell_type": "code",
   "execution_count": 109,
   "metadata": {},
   "outputs": [
    {
     "name": "stdout",
     "output_type": "stream",
     "text": [
      "     * \n",
      "    * * \n",
      "   * * * \n",
      "  * * * * \n",
      " * * * * * \n"
     ]
    }
   ],
   "source": [
    "spaces = 5\n",
    "for i in range(1, 6):\n",
    "    print(' ' * spaces, end='')\n",
    "    print('* '*(i))\n",
    "    spaces -= 1\n",
    "\n"
   ]
  },
  {
   "cell_type": "markdown",
   "metadata": {},
   "source": [
    "### Print this pattern\n",
    "\n",
    "```\n",
    " * * * * * \n",
    "  * * * * \n",
    "   * * * \n",
    "    * * \n",
    "     * \n",
    "```"
   ]
  },
  {
   "cell_type": "code",
   "execution_count": 104,
   "metadata": {},
   "outputs": [
    {
     "name": "stdout",
     "output_type": "stream",
     "text": [
      " * * * * * \n",
      "  * * * * \n",
      "   * * * \n",
      "    * * \n",
      "     * \n"
     ]
    }
   ],
   "source": [
    "spaces=0\n",
    "for i in range(5, 0,-1):\n",
    "    print(' '*spaces , end=' ')\n",
    "    print('* '*(i))\n",
    "    spaces+=1"
   ]
  },
  {
   "cell_type": "markdown",
   "metadata": {},
   "source": [
    "### Print this pattern\n",
    "\n",
    "\n",
    "```\n",
    "     * \n",
    "    * * \n",
    "   * * * \n",
    "  * * * * \n",
    " * * * * * \n",
    " * * * * * \n",
    "  * * * * \n",
    "   * * * \n",
    "    * * \n",
    "     * \n",
    "```\n"
   ]
  },
  {
   "cell_type": "code",
   "execution_count": 142,
   "metadata": {},
   "outputs": [
    {
     "name": "stdout",
     "output_type": "stream",
     "text": [
      "      * \n",
      "     * * \n",
      "    * * * \n",
      "   * * * * \n",
      "  * * * * * \n",
      "  * * * * * \n",
      "   * * * * \n",
      "    * * * \n",
      "     * * \n",
      "      * \n"
     ]
    }
   ],
   "source": [
    "\n",
    "spaces = 5\n",
    "for i in range(1, 6):\n",
    "    print(' '*(spaces), end=' ')\n",
    "    print('* '*(i))\n",
    "    spaces-=1\n",
    "spaces = 1\n",
    "for i in range(5,0, -1):\n",
    "    print(' '*spaces, end=' ')\n",
    "    print('* '*(i))\n",
    "    spaces+=1"
   ]
  },
  {
   "cell_type": "markdown",
   "metadata": {},
   "source": [
    "### Print this pattern\n",
    "\n",
    "```\n",
    "*  \n",
    "* *  \n",
    "* * *  \n",
    "* * * *  \n",
    "* * * * *  \n",
    "* * * * * *  \n",
    "* * * * *  \n",
    "* * * *  \n",
    "* * *  \n",
    "* *  \n",
    "*  \n",
    "```"
   ]
  },
  {
   "cell_type": "code",
   "execution_count": 140,
   "metadata": {},
   "outputs": [
    {
     "name": "stdout",
     "output_type": "stream",
     "text": [
      "*  \n",
      "* *  \n",
      "* * *  \n",
      "* * * *  \n",
      "* * * * *  \n",
      "* * * * * *  \n",
      "* * * * *  \n",
      "* * * *  \n",
      "* * *  \n",
      "* *  \n",
      "*  \n"
     ]
    }
   ],
   "source": [
    "for i in range(1,6):\n",
    "    for j in range(i):\n",
    "        print(\"*\", end=\" \")\n",
    "    print(' ')\n",
    "for i in range(6, 0 ,-1):\n",
    "    for j in range(i):\n",
    "        print(\"*\", end=\" \")\n",
    "    print(' ')"
   ]
  },
  {
   "cell_type": "markdown",
   "metadata": {},
   "source": [
    "### Print this pattern flyod's triangle.\n",
    "\n",
    "```\n",
    "1 \n",
    "0 1 \n",
    "1 0 1 \n",
    "0 1 0 1 \n",
    "1 0 1 0 1 \n",
    "```"
   ]
  },
  {
   "cell_type": "code",
   "execution_count": 30,
   "metadata": {},
   "outputs": [
    {
     "name": "stdout",
     "output_type": "stream",
     "text": [
      "1 \n",
      "0 1 \n",
      "1 0 1 \n",
      "0 1 0 1 \n",
      "1 0 1 0 1 \n"
     ]
    }
   ],
   "source": [
    "for i in range(5):\n",
    "    if i%2 == 0:\n",
    "        p = 1\n",
    "        q = 0\n",
    "    else:\n",
    "        p = 0\n",
    "        q = 1\n",
    "    for j in range(i+1):\n",
    "        if(j%2 == 0):\n",
    "            print(p, end=' ')\n",
    "        else:\n",
    "            print(q, end=' ')\n",
    "    print('')"
   ]
  },
  {
   "cell_type": "markdown",
   "metadata": {},
   "source": [
    "### Print this pattern \n",
    "\n",
    "```\n",
    "1             1  \n",
    "1 2         2 1  \n",
    "1 2 3     3 2 1  \n",
    "1 2 3 4 4 3 2 1 \n",
    "```\n"
   ]
  },
  {
   "cell_type": "code",
   "execution_count": 392,
   "metadata": {},
   "outputs": [
    {
     "name": "stdout",
     "output_type": "stream",
     "text": [
      "1             1  \n",
      "1 2         2 1  \n",
      "1 2 3     3 2 1  \n",
      "1 2 3 4 4 3 2 1  \n"
     ]
    }
   ],
   "source": [
    "for i in range(1,5):\n",
    "    for j in range(i) :\n",
    "        print(j+1, end=' ')\n",
    "    \n",
    "    for j in range(2*(5-i-1),0,-1) :\n",
    "        print(\" \", end=' ')\n",
    "    \n",
    "    for j in range(i,0,-1) :\n",
    "        print(j, end=' ')\n",
    "    print(' ')\n"
   ]
  },
  {
   "cell_type": "markdown",
   "metadata": {},
   "source": [
    "### Print this pattern\n",
    "\n",
    "```\n",
    "1  \n",
    "2 3  \n",
    "4 5 6  \n",
    "7 8 9 10  \n",
    "11 12 13 14 15  \n",
    "```\n"
   ]
  },
  {
   "cell_type": "code",
   "execution_count": 80,
   "metadata": {},
   "outputs": [
    {
     "name": "stdout",
     "output_type": "stream",
     "text": [
      "1  \n",
      "2 3  \n",
      "4 5 6  \n",
      "7 8 9 10  \n",
      "11 12 13 14 15  \n"
     ]
    }
   ],
   "source": [
    "num = 1\n",
    "for i in range(5):\n",
    "    for j in range(i+1):\n",
    "        print(num, end=\" \")\n",
    "        num+=1\n",
    "    print(' ')"
   ]
  },
  {
   "cell_type": "markdown",
   "metadata": {},
   "source": [
    "### Print this pattern\n",
    "\n",
    "```\n",
    "A  \n",
    "A B  \n",
    "A B C  \n",
    "A B C D  \n",
    "A B C D E \n",
    "```"
   ]
  },
  {
   "cell_type": "code",
   "execution_count": 93,
   "metadata": {},
   "outputs": [
    {
     "name": "stdout",
     "output_type": "stream",
     "text": [
      "A  \n",
      "A B  \n",
      "A B C  \n",
      "A B C D  \n",
      "A B C D E  \n"
     ]
    }
   ],
   "source": [
    "for i in range(5):\n",
    "    character = 'A'\n",
    "    for j in range(i+1):\n",
    "        print(chr(ord(character)), end=' ')\n",
    "        character = chr(ord(character) +1)\n",
    "    print(' ')"
   ]
  },
  {
   "cell_type": "markdown",
   "metadata": {},
   "source": [
    "### Print this Pattern\n",
    "\n",
    "```\n",
    "A B C D E  \n",
    "A B C D  \n",
    "A B C  \n",
    "A B  \n",
    "A\n",
    "```"
   ]
  },
  {
   "cell_type": "code",
   "execution_count": 102,
   "metadata": {},
   "outputs": [
    {
     "name": "stdout",
     "output_type": "stream",
     "text": [
      "A B C D E  \n",
      "A B C D  \n",
      "A B C  \n",
      "A B  \n",
      "A  \n"
     ]
    }
   ],
   "source": [
    "for i in range(5, 0, -1):\n",
    "    character ='A'\n",
    "    for j in range(i, 0, -1):\n",
    "        print(character, end=' ')\n",
    "        character = chr(ord(character) +1)\n",
    "    print(' ')"
   ]
  },
  {
   "cell_type": "markdown",
   "metadata": {},
   "source": [
    "### Print this pattern \n",
    "\n",
    "```\n",
    "A  \n",
    "B B  \n",
    "C C C  \n",
    "D D D D  \n",
    "E E E E E\n",
    "```"
   ]
  },
  {
   "cell_type": "code",
   "execution_count": 108,
   "metadata": {},
   "outputs": [
    {
     "name": "stdout",
     "output_type": "stream",
     "text": [
      "A  \n",
      "B B  \n",
      "C C C  \n",
      "D D D D  \n",
      "E E E E E  \n"
     ]
    }
   ],
   "source": [
    "character = \"A\"\n",
    "for i in range(5):\n",
    "    for j in range(i+1):\n",
    "        print(character, end=' ')\n",
    "    character = chr(ord(character) +1)\n",
    "    print(' ')"
   ]
  },
  {
   "cell_type": "markdown",
   "metadata": {},
   "source": [
    "###  Print this pattern\n",
    "```    \n",
    "         A   \n",
    "      A  B  A   \n",
    "   A  B  C  A  B   \n",
    "A  B  C  D  A  B  C   \n",
    "```\n"
   ]
  },
  {
   "cell_type": "code",
   "execution_count": 362,
   "metadata": {},
   "outputs": [
    {
     "name": "stdout",
     "output_type": "stream",
     "text": [
      "             \n",
      "         A   \n",
      "      A  B  A   \n",
      "   A  B  C  A  B   \n",
      "A  B  C  D  A  B  C   \n"
     ]
    }
   ],
   "source": [
    "spaces = 7\n",
    "for i in range(0, 5):\n",
    "    character = 'A'\n",
    "    for j in range(i+1,5):\n",
    "        print('  ', end=' ')\n",
    "        \n",
    "    for j in range(0,i):\n",
    "        print(character+ \" \", end=' ')\n",
    "        character = chr(ord(character) +1)\n",
    "\n",
    "    character = 'A'\n",
    "    for j in range(1,i):\n",
    "        print(character+ \" \", end=' ')\n",
    "        character = chr(ord(character) +1)\n",
    "    print(' ')\n"
   ]
  },
  {
   "cell_type": "markdown",
   "metadata": {},
   "source": [
    "### Print this Pattern\n",
    "\n",
    "```\n",
    "E  \n",
    "D E  \n",
    "C D E  \n",
    "B C D E  \n",
    "A B C D E \n",
    "```"
   ]
  },
  {
   "cell_type": "code",
   "execution_count": 364,
   "metadata": {},
   "outputs": [
    {
     "name": "stdout",
     "output_type": "stream",
     "text": [
      "E  \n",
      "D E  \n",
      "C D E  \n",
      "B C D E  \n",
      "A B C D E  \n"
     ]
    }
   ],
   "source": [
    "character = 'E'\n",
    "for i in range(5):\n",
    "    character = chr(ord(character) -i)\n",
    "    for j in range(i+1):\n",
    "        print(character, end=\" \")\n",
    "        character = chr(ord(character) +1)\n",
    "    character = chr(ord(character) -1)\n",
    "    print(' ')"
   ]
  },
  {
   "cell_type": "markdown",
   "metadata": {},
   "source": [
    "### Print this pattern\n",
    "\n",
    "```\n",
    "* * * * * * * * * *  \n",
    "* * * *     * * * *  \n",
    "* * *         * * *  \n",
    "* *             * *  \n",
    "*                 *  \n",
    "*                 *  \n",
    "* *             * *  \n",
    "* * *         * * *  \n",
    "* * * *     * * * *  \n",
    "* * * * * * * * * * \n",
    "```"
   ]
  },
  {
   "cell_type": "code",
   "execution_count": 290,
   "metadata": {},
   "outputs": [
    {
     "name": "stdout",
     "output_type": "stream",
     "text": [
      "* * * * * * * * * *  \n",
      "* * * *     * * * *  \n",
      "* * *         * * *  \n",
      "* *             * *  \n",
      "*                 *  \n",
      "*                 *  \n",
      "* *             * *  \n",
      "* * *         * * *  \n",
      "* * * *     * * * *  \n",
      "* * * * * * * * * *  \n",
      " \n"
     ]
    }
   ],
   "source": [
    "for i in range(0,5):\n",
    "    for j in range(i,5):\n",
    "        print('*', end=' ')\n",
    "        \n",
    "    for j in range(0,2*i):\n",
    "        print(' ', end=' ')\n",
    "        \n",
    "    for j in range(i,n):\n",
    "        print('*', end=' ')\n",
    "        \n",
    "    print(' ')\n",
    "    \n",
    "for i in range(0,5):\n",
    "    for j in range(0,i+1):\n",
    "        print('*', end=' ')\n",
    "        \n",
    "    for j in range(0,2*(5-1-i)):\n",
    "        print(' ', end=' ')\n",
    "        \n",
    "    for j in range(0,i+1):\n",
    "        print('*', end=' ')\n",
    "        \n",
    "    print(' ')\n",
    "    \n",
    "print(' ')    \n",
    "        \n",
    "    "
   ]
  },
  {
   "cell_type": "markdown",
   "metadata": {},
   "source": [
    "### Print this pattern\n",
    "\n",
    "```\n",
    "*                          *   \n",
    "*  *                    *  *   \n",
    "*  *  *              *  *  *   \n",
    "*  *  *  *        *  *  *  *   \n",
    "*  *  *  *  *  *  *  *  *  *   \n",
    "*  *  *  *        *  *  *  *   \n",
    "*  *  *              *  *  *   \n",
    "*  *                    *  *   \n",
    "*                          *   \n",
    " ```"
   ]
  },
  {
   "cell_type": "code",
   "execution_count": 325,
   "metadata": {},
   "outputs": [
    {
     "name": "stdout",
     "output_type": "stream",
     "text": [
      "*                          *   \n",
      "*  *                    *  *   \n",
      "*  *  *              *  *  *   \n",
      "*  *  *  *        *  *  *  *   \n",
      "*  *  *  *  *  *  *  *  *  *   \n",
      "*  *  *  *        *  *  *  *   \n",
      "*  *  *              *  *  *   \n",
      "*  *                    *  *   \n",
      "*                          *   \n",
      " \n"
     ]
    }
   ],
   "source": [
    "for i in range(0, 4):\n",
    "    for j in range(0, i+1):\n",
    "        print('* ', end= \" \")\n",
    "    \n",
    "    for j in range(2*(5-1-i),0,-1):\n",
    "        print('  ', end= \" \")\n",
    "        \n",
    "    for j in range(0, i+1):\n",
    "        print('* ', end= \" \")\n",
    "    print(' ')\n",
    "for i in range(0,5):\n",
    "    for j in range(5,i,-1):\n",
    "        print('* ', end= \" \")\n",
    "    \n",
    "    for j in range(2*i,0,-1):\n",
    "        print('  ', end= \" \")\n",
    "        \n",
    "    for j in range(5,i,-1):\n",
    "        print('* ', end= \" \")\n",
    "    print(' ')\n",
    "print(' ')"
   ]
  },
  {
   "cell_type": "markdown",
   "metadata": {},
   "source": [
    "### Print this pattern\n",
    "\n",
    "```\n",
    "*  *  *  *  *   \n",
    "*           *   \n",
    "*           *   \n",
    "*           *   \n",
    "*  *  *  *  * \n",
    "```"
   ]
  },
  {
   "cell_type": "code",
   "execution_count": 402,
   "metadata": {},
   "outputs": [
    {
     "name": "stdout",
     "output_type": "stream",
     "text": [
      "*  *  *  *  *   \n",
      "*           *   \n",
      "*           *   \n",
      "*           *   \n",
      "*  *  *  *  *   \n"
     ]
    }
   ],
   "source": [
    "for i in range(5):\n",
    "    for j in range(5):\n",
    "        if (i==0 or i==4 or j==0 or j==4):\n",
    "            print('* ', end=\" \")\n",
    "            \n",
    "        else:\n",
    "            print('  ', end=\" \")\n",
    "    print(' ')"
   ]
  },
  {
   "cell_type": "markdown",
   "metadata": {},
   "source": [
    "### Print this pattern\n",
    "\n",
    "```\n",
    "4 4 4 4 4 4 4 \n",
    "4 3 3 3 3 3 4 \n",
    "4 3 2 2 2 3 4 \n",
    "4 3 2 1 2 3 4 \n",
    "4 3 2 2 2 3 4 \n",
    "4 3 3 3 3 3 4 \n",
    "4 4 4 4 4 4 4\n",
    "```"
   ]
  },
  {
   "cell_type": "code",
   "execution_count": 436,
   "metadata": {},
   "outputs": [
    {
     "name": "stdout",
     "output_type": "stream",
     "text": [
      "4 4 4 4 4 4 4 \n",
      "4 3 3 3 3 3 4 \n",
      "4 3 2 2 2 3 4 \n",
      "4 3 2 1 2 3 4 \n",
      "4 3 2 2 2 3 4 \n",
      "4 3 3 3 3 3 4 \n",
      "4 4 4 4 4 4 4 \n"
     ]
    }
   ],
   "source": [
    "for i in range(1, 5):\n",
    "    for j in range(1, 5):\n",
    "        min = i if i<j else j\n",
    "        print(4 - min + 1, end = \" \")\n",
    "    \n",
    "    for j in range(3, 0, -1): \n",
    "        min = i if i < j else j \n",
    "        print(4 - min + 1, end = \" \")\n",
    "    print()\n",
    "    \n",
    "for i in range(4 - 1, 0, -1): \n",
    "    for j in range(1, 4 + 1): \n",
    "        min = i if i < j else j \n",
    "        print(4 - min + 1, end = \" \") \n",
    "  \n",
    "    for j in range(4 - 1, 0, -1): \n",
    "        min = i if i < j else j \n",
    "        print(4 - min + 1, end = \" \")\n",
    "  \n",
    "    print()"
   ]
  },
  {
   "cell_type": "code",
   "execution_count": null,
   "metadata": {},
   "outputs": [],
   "source": []
  }
 ],
 "metadata": {
  "kernelspec": {
   "display_name": "Python 3.10.6 64-bit (windows store)",
   "language": "python",
   "name": "python3"
  },
  "language_info": {
   "codemirror_mode": {
    "name": "ipython",
    "version": 3
   },
   "file_extension": ".py",
   "mimetype": "text/x-python",
   "name": "python",
   "nbconvert_exporter": "python",
   "pygments_lexer": "ipython3",
   "version": "3.10.6"
  },
  "orig_nbformat": 4,
  "vscode": {
   "interpreter": {
    "hash": "a184b04f7e4cfe8ad73578cf659e38bf16860da1fe2b411d933321707ccf3233"
   }
  }
 },
 "nbformat": 4,
 "nbformat_minor": 2
}
