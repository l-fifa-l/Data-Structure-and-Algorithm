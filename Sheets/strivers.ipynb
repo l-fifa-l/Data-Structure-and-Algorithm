{
 "cells": [
  {
   "cell_type": "markdown",
   "metadata": {},
   "source": [
    "<h1 align='center'>Striver’s SDE Sheet</h1>"
   ]
  },
  {
   "cell_type": "markdown",
   "metadata": {},
   "source": [
    "## User Input"
   ]
  },
  {
   "cell_type": "code",
   "execution_count": 3,
   "metadata": {},
   "outputs": [
    {
     "name": "stdout",
     "output_type": "stream",
     "text": [
      "dfghj\n",
      "<class 'str'>\n"
     ]
    }
   ],
   "source": [
    "# User input string\n",
    "string = input(\"Enter a string\")\n",
    "print(string)\n",
    "print(type(string))"
   ]
  },
  {
   "cell_type": "code",
   "execution_count": 5,
   "metadata": {},
   "outputs": [
    {
     "name": "stdout",
     "output_type": "stream",
     "text": [
      "7\n",
      "<class 'int'>\n"
     ]
    }
   ],
   "source": [
    "# User input integer\n",
    "integer = int(input(\"Enter an integer\"))\n",
    "print(integer)\n",
    "print(type(integer))"
   ]
  },
  {
   "cell_type": "code",
   "execution_count": 7,
   "metadata": {},
   "outputs": [
    {
     "name": "stdout",
     "output_type": "stream",
     "text": [
      "6.8\n",
      "<class 'float'>\n"
     ]
    }
   ],
   "source": [
    "# User input float\n",
    "float = float(input(\"Enter an float\"))\n",
    "print(float)\n",
    "print(type(float))"
   ]
  },
  {
   "cell_type": "code",
   "execution_count": 10,
   "metadata": {},
   "outputs": [
    {
     "name": "stdout",
     "output_type": "stream",
     "text": [
      "[1, 2, 3, 4, 5, 6, 7, 8, 9]\n",
      "<class 'list'>\n"
     ]
    }
   ],
   "source": [
    "# User input integer list/array\n",
    "arr_list = [int(item) for item in input(\"Enter integer list\").split()]\n",
    "print(arr_list)\n",
    "print(type(arr_list))"
   ]
  },
  {
   "cell_type": "code",
   "execution_count": 12,
   "metadata": {},
   "outputs": [
    {
     "name": "stdout",
     "output_type": "stream",
     "text": [
      "['swfdr', 'etgthr', 'srge']\n",
      "<class 'list'>\n"
     ]
    }
   ],
   "source": [
    "# User input string list/array\n",
    "arr_str = [item for item in input(\"Enter string list\").split()]\n",
    "print(arr_str)\n",
    "print(type(arr_str))"
   ]
  },
  {
   "cell_type": "markdown",
   "metadata": {},
   "source": [
    "## Pattern printing"
   ]
  },
  {
   "cell_type": "markdown",
   "metadata": {},
   "source": [
    "### Print this pattern\n",
    "\n",
    "```\n",
    "* * * * * \n",
    "* * * * * \n",
    "* * * * * \n",
    "* * * * * \n",
    "* * * * *\n",
    "```"
   ]
  },
  {
   "cell_type": "code",
   "execution_count": 23,
   "metadata": {},
   "outputs": [
    {
     "name": "stdout",
     "output_type": "stream",
     "text": [
      "* * * * * \n",
      "* * * * * \n",
      "* * * * * \n",
      "* * * * * \n",
      "* * * * * \n"
     ]
    }
   ],
   "source": [
    "for i in range(5):\n",
    "    for j in range(5):\n",
    "        print(\"*\", end=' ')\n",
    "    print('')\n",
    "    "
   ]
  },
  {
   "cell_type": "markdown",
   "metadata": {},
   "source": [
    "### Print this pattern\n",
    "\n",
    "```\n",
    "* \n",
    "* * \n",
    "* * * \n",
    "* * * * \n",
    "* * * * * \n",
    "```"
   ]
  },
  {
   "cell_type": "code",
   "execution_count": 29,
   "metadata": {},
   "outputs": [
    {
     "name": "stdout",
     "output_type": "stream",
     "text": [
      "* \n",
      "* * \n",
      "* * * \n",
      "* * * * \n",
      "* * * * * \n"
     ]
    }
   ],
   "source": [
    "for i in range(0,5):\n",
    "    for j in range(0,i+1):\n",
    "        print(\"*\", end=' ')\n",
    "    print('')"
   ]
  },
  {
   "cell_type": "markdown",
   "metadata": {},
   "source": [
    "### Print this pattern\n",
    "\n",
    "```\n",
    "1 \n",
    "1 2 \n",
    "1 2 3 \n",
    "1 2 3 4 \n",
    "1 2 3 4 5\n",
    "```"
   ]
  },
  {
   "cell_type": "code",
   "execution_count": 54,
   "metadata": {},
   "outputs": [
    {
     "name": "stdout",
     "output_type": "stream",
     "text": [
      "1 \n",
      "1 2 \n",
      "1 2 3 \n",
      "1 2 3 4 \n",
      "1 2 3 4 5 \n"
     ]
    }
   ],
   "source": [
    "for i in range(5):\n",
    "    num = 1\n",
    "    for j in range(0,i+1):\n",
    "        print( num, end=\" \" )\n",
    "        num+=1\n",
    "    print(\"\")"
   ]
  },
  {
   "cell_type": "markdown",
   "metadata": {},
   "source": [
    "### Print this pattern\n",
    "\n",
    "```\n",
    "1  \n",
    "2 2  \n",
    "3 3 3  \n",
    "4 4 4 4  \n",
    "5 5 5 5 5 \n",
    "```\n"
   ]
  },
  {
   "cell_type": "code",
   "execution_count": 62,
   "metadata": {},
   "outputs": [
    {
     "name": "stdout",
     "output_type": "stream",
     "text": [
      "1  \n",
      "2 2  \n",
      "3 3 3  \n",
      "4 4 4 4  \n",
      "5 5 5 5 5  \n"
     ]
    }
   ],
   "source": [
    "for i in range(1,6):\n",
    "    for j in range(i):\n",
    "        print(i, end=\" \")\n",
    "    print(' ')"
   ]
  },
  {
   "cell_type": "markdown",
   "metadata": {},
   "source": [
    "### Print the pattern\n",
    "\n",
    "```\n",
    "* * * * * \n",
    "* * * * \n",
    "* * * \n",
    "* * \n",
    "*\n",
    "```"
   ]
  },
  {
   "cell_type": "code",
   "execution_count": 63,
   "metadata": {},
   "outputs": [
    {
     "name": "stdout",
     "output_type": "stream",
     "text": [
      "* * * * * \n",
      "* * * * \n",
      "* * * \n",
      "* * \n",
      "* \n"
     ]
    }
   ],
   "source": [
    "for i in range(5,0,-1):\n",
    "    for j in range(i):\n",
    "        print(\"*\", end=\" \")\n",
    "    print('')"
   ]
  },
  {
   "cell_type": "markdown",
   "metadata": {},
   "source": [
    "### Print this pattern\n",
    "\n",
    "```\n",
    "1 2 3 4 5 \n",
    "1 2 3 4 \n",
    "1 2 3 \n",
    "1 2 \n",
    "1 \n",
    "```"
   ]
  },
  {
   "cell_type": "code",
   "execution_count": 66,
   "metadata": {},
   "outputs": [
    {
     "name": "stdout",
     "output_type": "stream",
     "text": [
      "1 2 3 4 5 \n",
      "1 2 3 4 \n",
      "1 2 3 \n",
      "1 2 \n",
      "1 \n"
     ]
    }
   ],
   "source": [
    "for i in range(5,0,-1):\n",
    "    num = 1\n",
    "    for j in range(i):\n",
    "        print(num, end=\" \")\n",
    "        num+=1\n",
    "    print('')"
   ]
  },
  {
   "cell_type": "markdown",
   "metadata": {},
   "source": [
    "### Print this pattern\n",
    "\n",
    "```\n",
    "     * \n",
    "    * * \n",
    "   * * * \n",
    "  * * * * \n",
    " * * * * * \n",
    " ```"
   ]
  },
  {
   "cell_type": "code",
   "execution_count": 109,
   "metadata": {},
   "outputs": [
    {
     "name": "stdout",
     "output_type": "stream",
     "text": [
      "     * \n",
      "    * * \n",
      "   * * * \n",
      "  * * * * \n",
      " * * * * * \n"
     ]
    }
   ],
   "source": [
    "spaces = 5\n",
    "for i in range(1, 6):\n",
    "    print(' ' * spaces, end='')\n",
    "    print('* '*(i))\n",
    "    spaces -= 1\n",
    "\n"
   ]
  },
  {
   "cell_type": "markdown",
   "metadata": {},
   "source": [
    "### Print this pattern\n",
    "\n",
    "```\n",
    " * * * * * \n",
    "  * * * * \n",
    "   * * * \n",
    "    * * \n",
    "     * \n",
    "```"
   ]
  },
  {
   "cell_type": "code",
   "execution_count": 104,
   "metadata": {},
   "outputs": [
    {
     "name": "stdout",
     "output_type": "stream",
     "text": [
      " * * * * * \n",
      "  * * * * \n",
      "   * * * \n",
      "    * * \n",
      "     * \n"
     ]
    }
   ],
   "source": [
    "spaces=0\n",
    "for i in range(5, 0,-1):\n",
    "    print(' '*spaces , end=' ')\n",
    "    print('* '*(i))\n",
    "    spaces+=1"
   ]
  },
  {
   "cell_type": "markdown",
   "metadata": {},
   "source": [
    "### Print this pattern\n",
    "\n",
    "\n",
    "```\n",
    "     * \n",
    "    * * \n",
    "   * * * \n",
    "  * * * * \n",
    " * * * * * \n",
    " * * * * * \n",
    "  * * * * \n",
    "   * * * \n",
    "    * * \n",
    "     * \n",
    "```\n"
   ]
  },
  {
   "cell_type": "code",
   "execution_count": 142,
   "metadata": {},
   "outputs": [
    {
     "name": "stdout",
     "output_type": "stream",
     "text": [
      "      * \n",
      "     * * \n",
      "    * * * \n",
      "   * * * * \n",
      "  * * * * * \n",
      "  * * * * * \n",
      "   * * * * \n",
      "    * * * \n",
      "     * * \n",
      "      * \n"
     ]
    }
   ],
   "source": [
    "\n",
    "spaces = 5\n",
    "for i in range(1, 6):\n",
    "    print(' '*(spaces), end=' ')\n",
    "    print('* '*(i))\n",
    "    spaces-=1\n",
    "spaces = 1\n",
    "for i in range(5,0, -1):\n",
    "    print(' '*spaces, end=' ')\n",
    "    print('* '*(i))\n",
    "    spaces+=1"
   ]
  },
  {
   "cell_type": "markdown",
   "metadata": {},
   "source": [
    "### Print this pattern\n",
    "\n",
    "```\n",
    "*  \n",
    "* *  \n",
    "* * *  \n",
    "* * * *  \n",
    "* * * * *  \n",
    "* * * * * *  \n",
    "* * * * *  \n",
    "* * * *  \n",
    "* * *  \n",
    "* *  \n",
    "*  \n",
    "```"
   ]
  },
  {
   "cell_type": "code",
   "execution_count": 140,
   "metadata": {},
   "outputs": [
    {
     "name": "stdout",
     "output_type": "stream",
     "text": [
      "*  \n",
      "* *  \n",
      "* * *  \n",
      "* * * *  \n",
      "* * * * *  \n",
      "* * * * * *  \n",
      "* * * * *  \n",
      "* * * *  \n",
      "* * *  \n",
      "* *  \n",
      "*  \n"
     ]
    }
   ],
   "source": [
    "for i in range(1,6):\n",
    "    for j in range(i):\n",
    "        print(\"*\", end=\" \")\n",
    "    print(' ')\n",
    "for i in range(6, 0 ,-1):\n",
    "    for j in range(i):\n",
    "        print(\"*\", end=\" \")\n",
    "    print(' ')"
   ]
  },
  {
   "cell_type": "markdown",
   "metadata": {},
   "source": [
    "### Print this pattern flyod's triangle.\n",
    "\n",
    "```\n",
    "1 \n",
    "0 1 \n",
    "1 0 1 \n",
    "0 1 0 1 \n",
    "1 0 1 0 1 \n",
    "```"
   ]
  },
  {
   "cell_type": "code",
   "execution_count": 30,
   "metadata": {},
   "outputs": [
    {
     "name": "stdout",
     "output_type": "stream",
     "text": [
      "1 \n",
      "0 1 \n",
      "1 0 1 \n",
      "0 1 0 1 \n",
      "1 0 1 0 1 \n"
     ]
    }
   ],
   "source": [
    "for i in range(5):\n",
    "    if i%2 == 0:\n",
    "        p = 1\n",
    "        q = 0\n",
    "    else:\n",
    "        p = 0\n",
    "        q = 1\n",
    "    for j in range(i+1):\n",
    "        if(j%2 == 0):\n",
    "            print(p, end=' ')\n",
    "        else:\n",
    "            print(q, end=' ')\n",
    "    print('')"
   ]
  },
  {
   "cell_type": "markdown",
   "metadata": {},
   "source": [
    "### Print this pattern \n",
    "\n",
    "```\n",
    "1             1  \n",
    "1 2         2 1  \n",
    "1 2 3     3 2 1  \n",
    "1 2 3 4 4 3 2 1 \n",
    "```\n"
   ]
  },
  {
   "cell_type": "code",
   "execution_count": 392,
   "metadata": {},
   "outputs": [
    {
     "name": "stdout",
     "output_type": "stream",
     "text": [
      "1             1  \n",
      "1 2         2 1  \n",
      "1 2 3     3 2 1  \n",
      "1 2 3 4 4 3 2 1  \n"
     ]
    }
   ],
   "source": [
    "for i in range(1,5):\n",
    "    for j in range(i) :\n",
    "        print(j+1, end=' ')\n",
    "    \n",
    "    for j in range(2*(5-i-1),0,-1) :\n",
    "        print(\" \", end=' ')\n",
    "    \n",
    "    for j in range(i,0,-1) :\n",
    "        print(j, end=' ')\n",
    "    print(' ')\n"
   ]
  },
  {
   "cell_type": "markdown",
   "metadata": {},
   "source": [
    "### Print this pattern\n",
    "\n",
    "```\n",
    "1  \n",
    "2 3  \n",
    "4 5 6  \n",
    "7 8 9 10  \n",
    "11 12 13 14 15  \n",
    "```\n"
   ]
  },
  {
   "cell_type": "code",
   "execution_count": 80,
   "metadata": {},
   "outputs": [
    {
     "name": "stdout",
     "output_type": "stream",
     "text": [
      "1  \n",
      "2 3  \n",
      "4 5 6  \n",
      "7 8 9 10  \n",
      "11 12 13 14 15  \n"
     ]
    }
   ],
   "source": [
    "num = 1\n",
    "for i in range(5):\n",
    "    for j in range(i+1):\n",
    "        print(num, end=\" \")\n",
    "        num+=1\n",
    "    print(' ')"
   ]
  },
  {
   "cell_type": "markdown",
   "metadata": {},
   "source": [
    "### Print this pattern\n",
    "\n",
    "```\n",
    "A  \n",
    "A B  \n",
    "A B C  \n",
    "A B C D  \n",
    "A B C D E \n",
    "```"
   ]
  },
  {
   "cell_type": "code",
   "execution_count": 93,
   "metadata": {},
   "outputs": [
    {
     "name": "stdout",
     "output_type": "stream",
     "text": [
      "A  \n",
      "A B  \n",
      "A B C  \n",
      "A B C D  \n",
      "A B C D E  \n"
     ]
    }
   ],
   "source": [
    "for i in range(5):\n",
    "    character = 'A'\n",
    "    for j in range(i+1):\n",
    "        print(chr(ord(character)), end=' ')\n",
    "        character = chr(ord(character) +1)\n",
    "    print(' ')"
   ]
  },
  {
   "cell_type": "markdown",
   "metadata": {},
   "source": [
    "### Print this Pattern\n",
    "\n",
    "```\n",
    "A B C D E  \n",
    "A B C D  \n",
    "A B C  \n",
    "A B  \n",
    "A\n",
    "```"
   ]
  },
  {
   "cell_type": "code",
   "execution_count": 102,
   "metadata": {},
   "outputs": [
    {
     "name": "stdout",
     "output_type": "stream",
     "text": [
      "A B C D E  \n",
      "A B C D  \n",
      "A B C  \n",
      "A B  \n",
      "A  \n"
     ]
    }
   ],
   "source": [
    "for i in range(5, 0, -1):\n",
    "    character ='A'\n",
    "    for j in range(i, 0, -1):\n",
    "        print(character, end=' ')\n",
    "        character = chr(ord(character) +1)\n",
    "    print(' ')"
   ]
  },
  {
   "cell_type": "markdown",
   "metadata": {},
   "source": [
    "### Print this pattern \n",
    "\n",
    "```\n",
    "A  \n",
    "B B  \n",
    "C C C  \n",
    "D D D D  \n",
    "E E E E E\n",
    "```"
   ]
  },
  {
   "cell_type": "code",
   "execution_count": 108,
   "metadata": {},
   "outputs": [
    {
     "name": "stdout",
     "output_type": "stream",
     "text": [
      "A  \n",
      "B B  \n",
      "C C C  \n",
      "D D D D  \n",
      "E E E E E  \n"
     ]
    }
   ],
   "source": [
    "character = \"A\"\n",
    "for i in range(5):\n",
    "    for j in range(i+1):\n",
    "        print(character, end=' ')\n",
    "    character = chr(ord(character) +1)\n",
    "    print(' ')"
   ]
  },
  {
   "cell_type": "markdown",
   "metadata": {},
   "source": [
    "###  Print this pattern\n",
    "```    \n",
    "         A   \n",
    "      A  B  A   \n",
    "   A  B  C  A  B   \n",
    "A  B  C  D  A  B  C   \n",
    "```\n"
   ]
  },
  {
   "cell_type": "code",
   "execution_count": 362,
   "metadata": {},
   "outputs": [
    {
     "name": "stdout",
     "output_type": "stream",
     "text": [
      "             \n",
      "         A   \n",
      "      A  B  A   \n",
      "   A  B  C  A  B   \n",
      "A  B  C  D  A  B  C   \n"
     ]
    }
   ],
   "source": [
    "spaces = 7\n",
    "for i in range(0, 5):\n",
    "    character = 'A'\n",
    "    for j in range(i+1,5):\n",
    "        print('  ', end=' ')\n",
    "        \n",
    "    for j in range(0,i):\n",
    "        print(character+ \" \", end=' ')\n",
    "        character = chr(ord(character) +1)\n",
    "\n",
    "    character = 'A'\n",
    "    for j in range(1,i):\n",
    "        print(character+ \" \", end=' ')\n",
    "        character = chr(ord(character) +1)\n",
    "    print(' ')\n"
   ]
  },
  {
   "cell_type": "markdown",
   "metadata": {},
   "source": [
    "### Print this Pattern\n",
    "\n",
    "```\n",
    "E  \n",
    "D E  \n",
    "C D E  \n",
    "B C D E  \n",
    "A B C D E \n",
    "```"
   ]
  },
  {
   "cell_type": "code",
   "execution_count": 364,
   "metadata": {},
   "outputs": [
    {
     "name": "stdout",
     "output_type": "stream",
     "text": [
      "E  \n",
      "D E  \n",
      "C D E  \n",
      "B C D E  \n",
      "A B C D E  \n"
     ]
    }
   ],
   "source": [
    "character = 'E'\n",
    "for i in range(5):\n",
    "    character = chr(ord(character) -i)\n",
    "    for j in range(i+1):\n",
    "        print(character, end=\" \")\n",
    "        character = chr(ord(character) +1)\n",
    "    character = chr(ord(character) -1)\n",
    "    print(' ')"
   ]
  },
  {
   "cell_type": "markdown",
   "metadata": {},
   "source": [
    "### Print this pattern\n",
    "\n",
    "```\n",
    "* * * * * * * * * *  \n",
    "* * * *     * * * *  \n",
    "* * *         * * *  \n",
    "* *             * *  \n",
    "*                 *  \n",
    "*                 *  \n",
    "* *             * *  \n",
    "* * *         * * *  \n",
    "* * * *     * * * *  \n",
    "* * * * * * * * * * \n",
    "```"
   ]
  },
  {
   "cell_type": "code",
   "execution_count": 290,
   "metadata": {},
   "outputs": [
    {
     "name": "stdout",
     "output_type": "stream",
     "text": [
      "* * * * * * * * * *  \n",
      "* * * *     * * * *  \n",
      "* * *         * * *  \n",
      "* *             * *  \n",
      "*                 *  \n",
      "*                 *  \n",
      "* *             * *  \n",
      "* * *         * * *  \n",
      "* * * *     * * * *  \n",
      "* * * * * * * * * *  \n",
      " \n"
     ]
    }
   ],
   "source": [
    "for i in range(0,5):\n",
    "    for j in range(i,5):\n",
    "        print('*', end=' ')\n",
    "        \n",
    "    for j in range(0,2*i):\n",
    "        print(' ', end=' ')\n",
    "        \n",
    "    for j in range(i,n):\n",
    "        print('*', end=' ')\n",
    "        \n",
    "    print(' ')\n",
    "    \n",
    "for i in range(0,5):\n",
    "    for j in range(0,i+1):\n",
    "        print('*', end=' ')\n",
    "        \n",
    "    for j in range(0,2*(5-1-i)):\n",
    "        print(' ', end=' ')\n",
    "        \n",
    "    for j in range(0,i+1):\n",
    "        print('*', end=' ')\n",
    "        \n",
    "    print(' ')\n",
    "    \n",
    "print(' ')    \n",
    "        \n",
    "    "
   ]
  },
  {
   "cell_type": "markdown",
   "metadata": {},
   "source": [
    "### Print this pattern\n",
    "\n",
    "```\n",
    "*                          *   \n",
    "*  *                    *  *   \n",
    "*  *  *              *  *  *   \n",
    "*  *  *  *        *  *  *  *   \n",
    "*  *  *  *  *  *  *  *  *  *   \n",
    "*  *  *  *        *  *  *  *   \n",
    "*  *  *              *  *  *   \n",
    "*  *                    *  *   \n",
    "*                          *   \n",
    " ```"
   ]
  },
  {
   "cell_type": "code",
   "execution_count": 325,
   "metadata": {},
   "outputs": [
    {
     "name": "stdout",
     "output_type": "stream",
     "text": [
      "*                          *   \n",
      "*  *                    *  *   \n",
      "*  *  *              *  *  *   \n",
      "*  *  *  *        *  *  *  *   \n",
      "*  *  *  *  *  *  *  *  *  *   \n",
      "*  *  *  *        *  *  *  *   \n",
      "*  *  *              *  *  *   \n",
      "*  *                    *  *   \n",
      "*                          *   \n",
      " \n"
     ]
    }
   ],
   "source": [
    "for i in range(0, 4):\n",
    "    for j in range(0, i+1):\n",
    "        print('* ', end= \" \")\n",
    "    \n",
    "    for j in range(2*(5-1-i),0,-1):\n",
    "        print('  ', end= \" \")\n",
    "        \n",
    "    for j in range(0, i+1):\n",
    "        print('* ', end= \" \")\n",
    "    print(' ')\n",
    "for i in range(0,5):\n",
    "    for j in range(5,i,-1):\n",
    "        print('* ', end= \" \")\n",
    "    \n",
    "    for j in range(2*i,0,-1):\n",
    "        print('  ', end= \" \")\n",
    "        \n",
    "    for j in range(5,i,-1):\n",
    "        print('* ', end= \" \")\n",
    "    print(' ')\n",
    "print(' ')"
   ]
  },
  {
   "cell_type": "markdown",
   "metadata": {},
   "source": [
    "### Print this pattern\n",
    "\n",
    "```\n",
    "*  *  *  *  *   \n",
    "*           *   \n",
    "*           *   \n",
    "*           *   \n",
    "*  *  *  *  * \n",
    "```"
   ]
  },
  {
   "cell_type": "code",
   "execution_count": 402,
   "metadata": {},
   "outputs": [
    {
     "name": "stdout",
     "output_type": "stream",
     "text": [
      "*  *  *  *  *   \n",
      "*           *   \n",
      "*           *   \n",
      "*           *   \n",
      "*  *  *  *  *   \n"
     ]
    }
   ],
   "source": [
    "for i in range(5):\n",
    "    for j in range(5):\n",
    "        if (i==0 or i==4 or j==0 or j==4):\n",
    "            print('* ', end=\" \")\n",
    "            \n",
    "        else:\n",
    "            print('  ', end=\" \")\n",
    "    print(' ')"
   ]
  },
  {
   "cell_type": "markdown",
   "metadata": {},
   "source": [
    "### Print this pattern\n",
    "\n",
    "```\n",
    "4 4 4 4 4 4 4 \n",
    "4 3 3 3 3 3 4 \n",
    "4 3 2 2 2 3 4 \n",
    "4 3 2 1 2 3 4 \n",
    "4 3 2 2 2 3 4 \n",
    "4 3 3 3 3 3 4 \n",
    "4 4 4 4 4 4 4\n",
    "```"
   ]
  },
  {
   "cell_type": "code",
   "execution_count": 436,
   "metadata": {},
   "outputs": [
    {
     "name": "stdout",
     "output_type": "stream",
     "text": [
      "4 4 4 4 4 4 4 \n",
      "4 3 3 3 3 3 4 \n",
      "4 3 2 2 2 3 4 \n",
      "4 3 2 1 2 3 4 \n",
      "4 3 2 2 2 3 4 \n",
      "4 3 3 3 3 3 4 \n",
      "4 4 4 4 4 4 4 \n"
     ]
    }
   ],
   "source": [
    "for i in range(1, 5):\n",
    "    for j in range(1, 5):\n",
    "        min = i if i<j else j\n",
    "        print(4 - min + 1, end = \" \")\n",
    "    \n",
    "    for j in range(3, 0, -1): \n",
    "        min = i if i < j else j \n",
    "        print(4 - min + 1, end = \" \")\n",
    "    print()\n",
    "    \n",
    "for i in range(4 - 1, 0, -1): \n",
    "    for j in range(1, 4 + 1): \n",
    "        min = i if i < j else j \n",
    "        print(4 - min + 1, end = \" \") \n",
    "  \n",
    "    for j in range(4 - 1, 0, -1): \n",
    "        min = i if i < j else j \n",
    "        print(4 - min + 1, end = \" \")\n",
    "  \n",
    "    print()"
   ]
  },
  {
   "cell_type": "markdown",
   "metadata": {},
   "source": [
    "## Basic Maths"
   ]
  },
  {
   "cell_type": "markdown",
   "metadata": {},
   "source": [
    "### Count digits in a number\n",
    "\n",
    "Given an integer N , write program to count number of digits in N.\n",
    "\n",
    "```\n",
    "Example 1:\n",
    "Input: N = 12345\n",
    "Output: 5\n",
    "Explanation: N has 5 digits\n",
    "\n",
    "Example 2:\n",
    "Input: N = 8394\n",
    "Output: 4\n",
    "Explanation: N has 4 digits\n",
    "```"
   ]
  },
  {
   "cell_type": "code",
   "execution_count": 454,
   "metadata": {},
   "outputs": [
    {
     "name": "stdout",
     "output_type": "stream",
     "text": [
      "6\n"
     ]
    }
   ],
   "source": [
    "def count_numbers():\n",
    "    number = int(input(\"Enter a Number:-\"))\n",
    "    count = 0\n",
    "    length = int(len(str(number)))\n",
    "    while (count<length):\n",
    "        count+=1\n",
    "    print(count)\n",
    "    \n",
    "count_numbers()"
   ]
  },
  {
   "cell_type": "markdown",
   "metadata": {},
   "source": [
    "## Reverse a number\n",
    "\n",
    "Given a number N reverse the number and print it.\n",
    "\n",
    "```\n",
    "Example 1:\n",
    "Input: N = 123\n",
    "Output: 321\n",
    "Explanation: The reverse of 123 is 321\n",
    "\n",
    "Example 2:\n",
    "Input: N = 234\n",
    "Output: 432\n",
    "Explanation: The reverse of 234 is 432\n",
    "```"
   ]
  },
  {
   "cell_type": "code",
   "execution_count": 24,
   "metadata": {},
   "outputs": [
    {
     "name": "stdout",
     "output_type": "stream",
     "text": [
      "8765432\n"
     ]
    }
   ],
   "source": [
    "def reverse_number(number):\n",
    "    reverse_number = 0\n",
    "    for i in range(0, len(str(number))):\n",
    "        last_number = number%10\n",
    "        number = number//10\n",
    "        reverse_number = reverse_number*10+last_number\n",
    "    print(reverse_number)\n",
    "                  \n",
    "\n",
    "number = int(input(\"Enter the Number to be reversed:\"))\n",
    "reverse_number(number)    "
   ]
  },
  {
   "cell_type": "markdown",
   "metadata": {},
   "source": [
    "###  Check Palindrome\n",
    "\n",
    " Given a number check if it is a palindrome.\n",
    "\n",
    "An integer is considered a palindrome when it reads the same backward as forward.\n",
    "\n",
    "```\n",
    "Example 1:\n",
    "Input: N = 123\n",
    "Output: Not Palindrome Number\n",
    "Explanation: 123 read backwards is 321.Since these are two different numbers 123 is not a palindrome.\n",
    "\n",
    "Example 2:\n",
    "Input: N =  121 \n",
    "Output: Palindrome Number\n",
    "Explanation: 121 read backwards as 121.Since these are two same numbers 121 is a palindrome.\n",
    "```"
   ]
  },
  {
   "cell_type": "code",
   "execution_count": 32,
   "metadata": {},
   "outputs": [
    {
     "name": "stdout",
     "output_type": "stream",
     "text": [
      "232\n",
      "232\n",
      "The number is PALINDROME !\n"
     ]
    }
   ],
   "source": [
    "def check_palindrome(number):\n",
    "    original_number = number\n",
    "    reverse_number = 0\n",
    "    for i in range(0, len(str(number))):\n",
    "        last_digit = number%10\n",
    "        number = number//10\n",
    "        reverse_number = reverse_number*10+last_digit\n",
    "    print(reverse_number)\n",
    "    print(original_number)\n",
    "    if(reverse_number == original_number):\n",
    "        print(\"The number is PALINDROME !\")\n",
    "    else:\n",
    "        print(\"The number is NOT A PALINDROME !\")\n",
    "        \n",
    "\n",
    "number = int(input(\"Enter a number:\"))\n",
    "check_palindrome(number)\n"
   ]
  },
  {
   "cell_type": "markdown",
   "metadata": {},
   "source": [
    "### GCD Or HCF\n",
    "\n",
    "Find gcd of two numbers.\n",
    "\n",
    "```\n",
    "Example 1:\n",
    "Input: num1 = 4, num2 = 8\n",
    "Output: 4\n",
    "Explanation: Since 4 is the greatest number which divides both num1 and num2.\n",
    "\n",
    "Example 2:\n",
    "Input: num1 = 3, num2 = 6\n",
    "Output: 3\n",
    "Explanation: Since 3 is the greatest number which divides both num1 and num2.\n",
    "```"
   ]
  },
  {
   "cell_type": "code",
   "execution_count": 40,
   "metadata": {},
   "outputs": [
    {
     "name": "stdout",
     "output_type": "stream",
     "text": [
      "3\n"
     ]
    }
   ],
   "source": [
    "def hcf(num1, num2):\n",
    "    array = []\n",
    "    mini = min(num1, num2)\n",
    "    for i in range(1,mini+1):\n",
    "        if num1%i == 0 and num2%i == 0:\n",
    "            array.append(i)\n",
    "    return max(array)\n",
    "    \n",
    "\n",
    "num1 = int(input(\"Enter the first number\"))\n",
    "num2 = int(input(\"Enter the second number\"))\n",
    "print(hcf(num1, num2))\n"
   ]
  },
  {
   "cell_type": "markdown",
   "metadata": {},
   "source": [
    "### Armstrong Numbers\n",
    "\n",
    "Armstrong Numbers are the numbers having the sum of digits raised to power no. of digits is equal to a given number. Examples- 0, 1, 153, 370, 371, 407, and 1634 are some of the Armstrong Numbers.\n",
    "\n",
    "```\n",
    "Example 1:\n",
    "Input:153 \n",
    "Output: Yes, it is an Armstrong Number\n",
    "Explanation: 1^3 + 5^3 + 3^3 = 153\n",
    "\n",
    "Input:170 \n",
    "Output: No, it is not an Armstrong Number\n",
    "Explanation: 1^3 + 7^3 + 0^3 != 170\n",
    "```"
   ]
  },
  {
   "cell_type": "code",
   "execution_count": 61,
   "metadata": {},
   "outputs": [
    {
     "data": {
      "text/plain": [
       "'Is armstrong_number'"
      ]
     },
     "execution_count": 61,
     "metadata": {},
     "output_type": "execute_result"
    }
   ],
   "source": [
    "def armstrong_number(number):\n",
    "    original_number = number\n",
    "    # find the number of digits in the number\n",
    "    num_digits = int(len(str(number)))\n",
    "    armstrong_number = 0\n",
    "    for i in str(number):\n",
    "        armstrong_number = armstrong_number +int(i)**num_digits\n",
    "    if original_number == number:\n",
    "        return(\"Is an armstrong number\")\n",
    "    else:\n",
    "        return(\"Is not an armstron number\")\n",
    "\n",
    "number = int(input(\"Enter a number:\"))\n",
    "armstrong_number(number)"
   ]
  },
  {
   "cell_type": "markdown",
   "metadata": {},
   "source": [
    "### Print all Divisors\n",
    "\n",
    "Given a number, print all the divisors of the number. A divisor is a number that gives remainder as zero when divided.\n",
    "\n",
    "```\n",
    "Example 1:\n",
    "Input: n = 36\n",
    "Output: 1 2 3 4 6 9 12 18 36\n",
    "Explanation: All the divisors of 36 are printed.\n",
    "\n",
    "Example 2:\n",
    "Input: n = 97\n",
    "Output: 1 97\n",
    "Explanation: Since 97 is a prime number, only 1 and 97 are printed.\n",
    "```"
   ]
  },
  {
   "cell_type": "code",
   "execution_count": 63,
   "metadata": {},
   "outputs": [
    {
     "data": {
      "text/plain": [
       "[1, 2, 3, 4, 6, 9, 12, 18, 36]"
      ]
     },
     "execution_count": 63,
     "metadata": {},
     "output_type": "execute_result"
    }
   ],
   "source": [
    "def print_divisor(number):\n",
    "    array = []\n",
    "    for i in range(1,number+1):\n",
    "        if number % i == 0:\n",
    "            array.append(i)\n",
    "    return array\n",
    "\n",
    "number = int(input(\"Enter a number:\"))\n",
    "print_divisor(number)"
   ]
  },
  {
   "cell_type": "markdown",
   "metadata": {},
   "source": [
    "### Check for prime\n",
    "\n",
    "Given a number, check whether it is prime or not. A prime number is a natural number that is only divisible by 1 and by itself.\n",
    "\n",
    "```\n",
    "Example 1:\n",
    "Input: N = 3\n",
    "Output: Prime\n",
    "Explanation: 3 is a prime number\n",
    "\n",
    "Example 2:\n",
    "Input: N = 26\n",
    "Output: Non-Prime\n",
    "Explanation: 26 is not prime\n",
    "```"
   ]
  },
  {
   "cell_type": "code",
   "execution_count": 82,
   "metadata": {},
   "outputs": [
    {
     "data": {
      "text/plain": [
       "True"
      ]
     },
     "execution_count": 82,
     "metadata": {},
     "output_type": "execute_result"
    }
   ],
   "source": [
    "def prime_number(number):\n",
    "    flag = True\n",
    "    for i in range(2,number):\n",
    "        if number%i==0:\n",
    "            flag = False\n",
    "            break\n",
    "    return flag\n",
    "\n",
    "            \n",
    "number = int(input(\"Enter the number:\"))\n",
    "prime_number(number)\n"
   ]
  },
  {
   "cell_type": "markdown",
   "metadata": {},
   "source": [
    "## Learn Basic Recursion"
   ]
  },
  {
   "cell_type": "markdown",
   "metadata": {},
   "source": [
    "### Understand recursion by print something N times"
   ]
  },
  {
   "cell_type": "code",
   "execution_count": 11,
   "metadata": {},
   "outputs": [
    {
     "name": "stdout",
     "output_type": "stream",
     "text": [
      "printing something 1 times\n",
      "printing something 2 times\n",
      "printing something 3 times\n",
      "printing something 4 times\n",
      "printing something 5 times\n",
      "printing something 6 times\n",
      "printing something 7 times\n",
      "printing something 8 times\n",
      "printing something 9 times\n"
     ]
    }
   ],
   "source": [
    "def n_time(n):\n",
    "    if (n==0):\n",
    "        return\n",
    "    else:\n",
    "        print(f\"printing something {n} times\")\n",
    "        n_time(n-1)\n",
    "\n",
    "n_time(9)"
   ]
  },
  {
   "cell_type": "markdown",
   "metadata": {},
   "source": [
    "### Print name N times using recursion"
   ]
  },
  {
   "cell_type": "code",
   "execution_count": 16,
   "metadata": {},
   "outputs": [
    {
     "name": "stdout",
     "output_type": "stream",
     "text": [
      "Vivek\n",
      "Vivek\n",
      "Vivek\n",
      "Vivek\n",
      "Vivek\n",
      "Vivek\n",
      "Vivek\n",
      "Vivek\n",
      "Vivek\n",
      "Vivek\n"
     ]
    }
   ],
   "source": [
    "def print_name(name, n):\n",
    "    if(n==0):\n",
    "        return\n",
    "    else:\n",
    "        print(name)\n",
    "        print_name(name, n-1)\n",
    "\n",
    "print_name(\"Vivek\", 10)"
   ]
  },
  {
   "cell_type": "markdown",
   "metadata": {},
   "source": [
    "### Print 1 to N using recursion"
   ]
  },
  {
   "cell_type": "code",
   "execution_count": 17,
   "metadata": {},
   "outputs": [
    {
     "name": "stdout",
     "output_type": "stream",
     "text": [
      "1\n",
      "2\n",
      "3\n",
      "4\n",
      "5\n",
      "6\n",
      "7\n",
      "8\n",
      "9\n",
      "10\n"
     ]
    }
   ],
   "source": [
    "def num_one_n(n):\n",
    "    if n==0:\n",
    "        return\n",
    "    else:\n",
    "        num_one_n(n-1)\n",
    "        print(n)\n",
    "\n",
    "num_one_n(10)"
   ]
  },
  {
   "cell_type": "markdown",
   "metadata": {},
   "source": [
    "### Print N to 1 using recursion"
   ]
  },
  {
   "cell_type": "code",
   "execution_count": 1,
   "metadata": {},
   "outputs": [
    {
     "name": "stdout",
     "output_type": "stream",
     "text": [
      "10\n",
      "9\n",
      "8\n",
      "7\n",
      "6\n",
      "5\n",
      "4\n",
      "3\n",
      "2\n",
      "1\n"
     ]
    }
   ],
   "source": [
    "def n_to_one(n):\n",
    "    if n==0:\n",
    "        return\n",
    "    else:\n",
    "        print(n)\n",
    "        n_to_one(n-1)\n",
    "        \n",
    "n_to_one(10)"
   ]
  },
  {
   "cell_type": "markdown",
   "metadata": {},
   "source": [
    "### Sum of first N numbers"
   ]
  },
  {
   "cell_type": "code",
   "execution_count": 20,
   "metadata": {},
   "outputs": [
    {
     "data": {
      "text/plain": [
       "10"
      ]
     },
     "execution_count": 20,
     "metadata": {},
     "output_type": "execute_result"
    }
   ],
   "source": [
    "def sum_n(n):\n",
    "    summ = n*(n-1)/2\n",
    "    return int(summ)        \n",
    "\n",
    "sum_n(5)\n",
    "        "
   ]
  },
  {
   "cell_type": "markdown",
   "metadata": {},
   "source": [
    "### Factorial of N numbers"
   ]
  },
  {
   "cell_type": "code",
   "execution_count": 29,
   "metadata": {},
   "outputs": [
    {
     "data": {
      "text/plain": [
       "120"
      ]
     },
     "execution_count": 29,
     "metadata": {},
     "output_type": "execute_result"
    }
   ],
   "source": [
    "def factorial(numbers):\n",
    "    if numbers == 1:\n",
    "        return numbers\n",
    "    else:\n",
    "        return numbers*factorial(numbers-1)\n",
    "\n",
    "factorial(5)"
   ]
  },
  {
   "cell_type": "markdown",
   "metadata": {},
   "source": [
    "### Reverse an array"
   ]
  },
  {
   "cell_type": "code",
   "execution_count": null,
   "metadata": {},
   "outputs": [],
   "source": [
    "def reversed_array(array):\n",
    "    "
   ]
  }
 ],
 "metadata": {
  "kernelspec": {
   "display_name": "Python 3.10.6 64-bit (windows store)",
   "language": "python",
   "name": "python3"
  },
  "language_info": {
   "codemirror_mode": {
    "name": "ipython",
    "version": 3
   },
   "file_extension": ".py",
   "mimetype": "text/x-python",
   "name": "python",
   "nbconvert_exporter": "python",
   "pygments_lexer": "ipython3",
   "version": "3.10.6"
  },
  "orig_nbformat": 4,
  "vscode": {
   "interpreter": {
    "hash": "a184b04f7e4cfe8ad73578cf659e38bf16860da1fe2b411d933321707ccf3233"
   }
  }
 },
 "nbformat": 4,
 "nbformat_minor": 2
}
