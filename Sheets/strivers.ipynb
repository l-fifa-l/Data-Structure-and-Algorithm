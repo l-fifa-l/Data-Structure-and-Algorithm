{
 "cells": [
  {
   "cell_type": "markdown",
   "metadata": {},
   "source": [
    "<h1 align='center'>Striver’s SDE Sheet</h1>"
   ]
  },
  {
   "cell_type": "markdown",
   "metadata": {},
   "source": [
    "## User Input"
   ]
  },
  {
   "cell_type": "code",
   "execution_count": 23,
   "metadata": {},
   "outputs": [
    {
     "name": "stdout",
     "output_type": "stream",
     "text": [
      "hello my name is something\n",
      "<class 'str'>\n"
     ]
    }
   ],
   "source": [
    "# User input string\n",
    "string = input(\"Enter a string\")\n",
    "print(string)\n",
    "print(type(string))"
   ]
  },
  {
   "cell_type": "code",
   "execution_count": 24,
   "metadata": {},
   "outputs": [
    {
     "name": "stdout",
     "output_type": "stream",
     "text": [
      "33\n",
      "<class 'int'>\n"
     ]
    }
   ],
   "source": [
    "# User input integer\n",
    "integer = int(input(\"Enter an integer\"))\n",
    "print(integer)\n",
    "print(type(integer))"
   ]
  },
  {
   "cell_type": "code",
   "execution_count": 25,
   "metadata": {},
   "outputs": [
    {
     "name": "stdout",
     "output_type": "stream",
     "text": [
      "23.23\n",
      "<class 'float'>\n"
     ]
    }
   ],
   "source": [
    "# User input float\n",
    "float = float(input(\"Enter an float\"))\n",
    "print(float)\n",
    "print(type(float))"
   ]
  },
  {
   "cell_type": "code",
   "execution_count": 26,
   "metadata": {},
   "outputs": [
    {
     "name": "stdout",
     "output_type": "stream",
     "text": [
      "[1, 2, 3, 4, 5, 6, 7, 8, 9]\n",
      "<class 'list'>\n"
     ]
    }
   ],
   "source": [
    "# User input integer list/array\n",
    "arr_list = [int(item) for item in input(\"Enter integer list\").split()]\n",
    "print(arr_list)\n",
    "print(type(arr_list))"
   ]
  },
  {
   "cell_type": "code",
   "execution_count": 27,
   "metadata": {},
   "outputs": [
    {
     "name": "stdout",
     "output_type": "stream",
     "text": [
      "['hello', 'my', 'name', 'is', 'something']\n",
      "<class 'list'>\n"
     ]
    }
   ],
   "source": [
    "# User input string list/array\n",
    "arr_str = [item for item in input(\"Enter string list\").split()]\n",
    "print(arr_str)\n",
    "print(type(arr_str))"
   ]
  },
  {
   "cell_type": "markdown",
   "metadata": {},
   "source": [
    "## Pattern printing"
   ]
  },
  {
   "cell_type": "markdown",
   "metadata": {},
   "source": [
    "### Print this pattern\n",
    "\n",
    "```\n",
    "* * * * * \n",
    "* * * * * \n",
    "* * * * * \n",
    "* * * * * \n",
    "* * * * *\n",
    "```"
   ]
  },
  {
   "cell_type": "code",
   "execution_count": 28,
   "metadata": {},
   "outputs": [
    {
     "name": "stdout",
     "output_type": "stream",
     "text": [
      "* * * * * \n",
      "* * * * * \n",
      "* * * * * \n",
      "* * * * * \n",
      "* * * * * \n"
     ]
    }
   ],
   "source": [
    "for i in range(5):\n",
    "    for j in range(5):\n",
    "        print(\"*\", end=' ')\n",
    "    print('')\n",
    "    "
   ]
  },
  {
   "cell_type": "markdown",
   "metadata": {},
   "source": [
    "### Print this pattern\n",
    "\n",
    "```\n",
    "* \n",
    "* * \n",
    "* * * \n",
    "* * * * \n",
    "* * * * * \n",
    "```"
   ]
  },
  {
   "cell_type": "code",
   "execution_count": 29,
   "metadata": {},
   "outputs": [
    {
     "name": "stdout",
     "output_type": "stream",
     "text": [
      "* \n",
      "* * \n",
      "* * * \n",
      "* * * * \n",
      "* * * * * \n"
     ]
    }
   ],
   "source": [
    "for i in range(0,5):\n",
    "    for j in range(0,i+1):\n",
    "        print(\"*\", end=' ')\n",
    "    print('')"
   ]
  },
  {
   "cell_type": "markdown",
   "metadata": {},
   "source": [
    "### Print this pattern\n",
    "\n",
    "```\n",
    "1 \n",
    "1 2 \n",
    "1 2 3 \n",
    "1 2 3 4 \n",
    "1 2 3 4 5\n",
    "```"
   ]
  },
  {
   "cell_type": "code",
   "execution_count": 30,
   "metadata": {},
   "outputs": [
    {
     "name": "stdout",
     "output_type": "stream",
     "text": [
      "1 \n",
      "1 2 \n",
      "1 2 3 \n",
      "1 2 3 4 \n",
      "1 2 3 4 5 \n"
     ]
    }
   ],
   "source": [
    "for i in range(5):\n",
    "    num = 1\n",
    "    for j in range(0,i+1):\n",
    "        print( num, end=\" \" )\n",
    "        num+=1\n",
    "    print(\"\")"
   ]
  },
  {
   "cell_type": "markdown",
   "metadata": {},
   "source": [
    "### Print this pattern\n",
    "\n",
    "```\n",
    "1  \n",
    "2 2  \n",
    "3 3 3  \n",
    "4 4 4 4  \n",
    "5 5 5 5 5 \n",
    "```\n"
   ]
  },
  {
   "cell_type": "code",
   "execution_count": 31,
   "metadata": {},
   "outputs": [
    {
     "name": "stdout",
     "output_type": "stream",
     "text": [
      "1  \n",
      "2 2  \n",
      "3 3 3  \n",
      "4 4 4 4  \n",
      "5 5 5 5 5  \n"
     ]
    }
   ],
   "source": [
    "for i in range(1,6):\n",
    "    for j in range(i):\n",
    "        print(i, end=\" \")\n",
    "    print(' ')"
   ]
  },
  {
   "cell_type": "markdown",
   "metadata": {},
   "source": [
    "### Print the pattern\n",
    "\n",
    "```\n",
    "* * * * * \n",
    "* * * * \n",
    "* * * \n",
    "* * \n",
    "*\n",
    "```"
   ]
  },
  {
   "cell_type": "code",
   "execution_count": 32,
   "metadata": {},
   "outputs": [
    {
     "name": "stdout",
     "output_type": "stream",
     "text": [
      "* * * * * \n",
      "* * * * \n",
      "* * * \n",
      "* * \n",
      "* \n"
     ]
    }
   ],
   "source": [
    "for i in range(5,0,-1):\n",
    "    for j in range(i):\n",
    "        print(\"*\", end=\" \")\n",
    "    print('')"
   ]
  },
  {
   "cell_type": "markdown",
   "metadata": {},
   "source": [
    "### Print this pattern\n",
    "\n",
    "```\n",
    "1 2 3 4 5 \n",
    "1 2 3 4 \n",
    "1 2 3 \n",
    "1 2 \n",
    "1 \n",
    "```"
   ]
  },
  {
   "cell_type": "code",
   "execution_count": 33,
   "metadata": {},
   "outputs": [
    {
     "name": "stdout",
     "output_type": "stream",
     "text": [
      "1 2 3 4 5 \n",
      "1 2 3 4 \n",
      "1 2 3 \n",
      "1 2 \n",
      "1 \n"
     ]
    }
   ],
   "source": [
    "for i in range(5,0,-1):\n",
    "    num = 1\n",
    "    for j in range(i):\n",
    "        print(num, end=\" \")\n",
    "        num+=1\n",
    "    print('')"
   ]
  },
  {
   "cell_type": "markdown",
   "metadata": {},
   "source": [
    "### Print this pattern\n",
    "\n",
    "```\n",
    "     * \n",
    "    * * \n",
    "   * * * \n",
    "  * * * * \n",
    " * * * * * \n",
    " ```"
   ]
  },
  {
   "cell_type": "code",
   "execution_count": 34,
   "metadata": {},
   "outputs": [
    {
     "name": "stdout",
     "output_type": "stream",
     "text": [
      "     * \n",
      "    * * \n",
      "   * * * \n",
      "  * * * * \n",
      " * * * * * \n"
     ]
    }
   ],
   "source": [
    "spaces = 5\n",
    "for i in range(1, 6):\n",
    "    print(' ' * spaces, end='')\n",
    "    print('* '*(i))\n",
    "    spaces -= 1\n",
    "\n"
   ]
  },
  {
   "cell_type": "markdown",
   "metadata": {},
   "source": [
    "### Print this pattern\n",
    "\n",
    "```\n",
    " * * * * * \n",
    "  * * * * \n",
    "   * * * \n",
    "    * * \n",
    "     * \n",
    "```"
   ]
  },
  {
   "cell_type": "code",
   "execution_count": 35,
   "metadata": {},
   "outputs": [
    {
     "name": "stdout",
     "output_type": "stream",
     "text": [
      " * * * * * \n",
      "  * * * * \n",
      "   * * * \n",
      "    * * \n",
      "     * \n"
     ]
    }
   ],
   "source": [
    "spaces=0\n",
    "for i in range(5, 0,-1):\n",
    "    print(' '*spaces , end=' ')\n",
    "    print('* '*(i))\n",
    "    spaces+=1"
   ]
  },
  {
   "cell_type": "markdown",
   "metadata": {},
   "source": [
    "### Print this pattern\n",
    "\n",
    "\n",
    "```\n",
    "     * \n",
    "    * * \n",
    "   * * * \n",
    "  * * * * \n",
    " * * * * * \n",
    " * * * * * \n",
    "  * * * * \n",
    "   * * * \n",
    "    * * \n",
    "     * \n",
    "```\n"
   ]
  },
  {
   "cell_type": "code",
   "execution_count": 36,
   "metadata": {},
   "outputs": [
    {
     "name": "stdout",
     "output_type": "stream",
     "text": [
      "      * \n",
      "     * * \n",
      "    * * * \n",
      "   * * * * \n",
      "  * * * * * \n",
      "  * * * * * \n",
      "   * * * * \n",
      "    * * * \n",
      "     * * \n",
      "      * \n"
     ]
    }
   ],
   "source": [
    "\n",
    "spaces = 5\n",
    "for i in range(1, 6):\n",
    "    print(' '*(spaces), end=' ')\n",
    "    print('* '*(i))\n",
    "    spaces-=1\n",
    "spaces = 1\n",
    "for i in range(5,0, -1):\n",
    "    print(' '*spaces, end=' ')\n",
    "    print('* '*(i))\n",
    "    spaces+=1"
   ]
  },
  {
   "cell_type": "markdown",
   "metadata": {},
   "source": [
    "### Print this pattern\n",
    "\n",
    "```\n",
    "*  \n",
    "* *  \n",
    "* * *  \n",
    "* * * *  \n",
    "* * * * *  \n",
    "* * * * * *  \n",
    "* * * * *  \n",
    "* * * *  \n",
    "* * *  \n",
    "* *  \n",
    "*  \n",
    "```"
   ]
  },
  {
   "cell_type": "code",
   "execution_count": 37,
   "metadata": {},
   "outputs": [
    {
     "name": "stdout",
     "output_type": "stream",
     "text": [
      "*  \n",
      "* *  \n",
      "* * *  \n",
      "* * * *  \n",
      "* * * * *  \n",
      "* * * * * *  \n",
      "* * * * *  \n",
      "* * * *  \n",
      "* * *  \n",
      "* *  \n",
      "*  \n"
     ]
    }
   ],
   "source": [
    "for i in range(1,6):\n",
    "    for j in range(i):\n",
    "        print(\"*\", end=\" \")\n",
    "    print(' ')\n",
    "for i in range(6, 0 ,-1):\n",
    "    for j in range(i):\n",
    "        print(\"*\", end=\" \")\n",
    "    print(' ')"
   ]
  },
  {
   "cell_type": "markdown",
   "metadata": {},
   "source": [
    "### Print this pattern flyod's triangle.\n",
    "\n",
    "```\n",
    "1 \n",
    "0 1 \n",
    "1 0 1 \n",
    "0 1 0 1 \n",
    "1 0 1 0 1 \n",
    "```"
   ]
  },
  {
   "cell_type": "code",
   "execution_count": 38,
   "metadata": {},
   "outputs": [
    {
     "name": "stdout",
     "output_type": "stream",
     "text": [
      "1 \n",
      "0 1 \n",
      "1 0 1 \n",
      "0 1 0 1 \n",
      "1 0 1 0 1 \n"
     ]
    }
   ],
   "source": [
    "for i in range(5):\n",
    "    if i%2 == 0:\n",
    "        p = 1\n",
    "        q = 0\n",
    "    else:\n",
    "        p = 0\n",
    "        q = 1\n",
    "    for j in range(i+1):\n",
    "        if(j%2 == 0):\n",
    "            print(p, end=' ')\n",
    "        else:\n",
    "            print(q, end=' ')\n",
    "    print('')"
   ]
  },
  {
   "cell_type": "markdown",
   "metadata": {},
   "source": [
    "### Print this pattern \n",
    "\n",
    "```\n",
    "1             1  \n",
    "1 2         2 1  \n",
    "1 2 3     3 2 1  \n",
    "1 2 3 4 4 3 2 1 \n",
    "```\n"
   ]
  },
  {
   "cell_type": "code",
   "execution_count": 50,
   "metadata": {},
   "outputs": [
    {
     "name": "stdout",
     "output_type": "stream",
     "text": [
      "1             1  \n",
      "1 2         2 1  \n",
      "1 2 3     3 2 1  \n",
      "1 2 3 4 4 3 2 1  \n"
     ]
    }
   ],
   "source": [
    "for i in range(1,5):\n",
    "    for j in range(i) :\n",
    "        print(j+1, end=' ')\n",
    "    \n",
    "    for j in range(2*(5-i-1),0,-1) :\n",
    "        print(\" \", end=' ')\n",
    "    \n",
    "    for j in range(i,0,-1) :\n",
    "        print(j, end=' ')\n",
    "    print(' ')\n"
   ]
  },
  {
   "cell_type": "markdown",
   "metadata": {},
   "source": [
    "### Print this pattern\n",
    "\n",
    "```\n",
    "1  \n",
    "2 3  \n",
    "4 5 6  \n",
    "7 8 9 10  \n",
    "11 12 13 14 15  \n",
    "```\n"
   ]
  },
  {
   "cell_type": "code",
   "execution_count": 40,
   "metadata": {},
   "outputs": [
    {
     "name": "stdout",
     "output_type": "stream",
     "text": [
      "1  \n",
      "2 3  \n",
      "4 5 6  \n",
      "7 8 9 10  \n",
      "11 12 13 14 15  \n"
     ]
    }
   ],
   "source": [
    "num = 1\n",
    "for i in range(5):\n",
    "    for j in range(i+1):\n",
    "        print(num, end=\" \")\n",
    "        num+=1\n",
    "    print(' ')"
   ]
  },
  {
   "cell_type": "markdown",
   "metadata": {},
   "source": [
    "### Print this pattern\n",
    "\n",
    "```\n",
    "A  \n",
    "A B  \n",
    "A B C  \n",
    "A B C D  \n",
    "A B C D E \n",
    "```"
   ]
  },
  {
   "cell_type": "code",
   "execution_count": 41,
   "metadata": {},
   "outputs": [
    {
     "name": "stdout",
     "output_type": "stream",
     "text": [
      "A  \n",
      "A B  \n",
      "A B C  \n",
      "A B C D  \n",
      "A B C D E  \n"
     ]
    }
   ],
   "source": [
    "for i in range(5):\n",
    "    character = 'A'\n",
    "    for j in range(i+1):\n",
    "        print(chr(ord(character)), end=' ')\n",
    "        character = chr(ord(character) +1)\n",
    "    print(' ')"
   ]
  },
  {
   "cell_type": "markdown",
   "metadata": {},
   "source": [
    "### Print this Pattern\n",
    "\n",
    "```\n",
    "A B C D E  \n",
    "A B C D  \n",
    "A B C  \n",
    "A B  \n",
    "A\n",
    "```"
   ]
  },
  {
   "cell_type": "code",
   "execution_count": 42,
   "metadata": {},
   "outputs": [
    {
     "name": "stdout",
     "output_type": "stream",
     "text": [
      "A B C D E  \n",
      "A B C D  \n",
      "A B C  \n",
      "A B  \n",
      "A  \n"
     ]
    }
   ],
   "source": [
    "for i in range(5, 0, -1):\n",
    "    character ='A'\n",
    "    for j in range(i, 0, -1):\n",
    "        print(character, end=' ')\n",
    "        character = chr(ord(character) +1)\n",
    "    print(' ')"
   ]
  },
  {
   "cell_type": "markdown",
   "metadata": {},
   "source": [
    "### Print this pattern \n",
    "\n",
    "```\n",
    "A  \n",
    "B B  \n",
    "C C C  \n",
    "D D D D  \n",
    "E E E E E\n",
    "```"
   ]
  },
  {
   "cell_type": "code",
   "execution_count": 43,
   "metadata": {},
   "outputs": [
    {
     "name": "stdout",
     "output_type": "stream",
     "text": [
      "A  \n",
      "B B  \n",
      "C C C  \n",
      "D D D D  \n",
      "E E E E E  \n"
     ]
    }
   ],
   "source": [
    "character = \"A\"\n",
    "for i in range(5):\n",
    "    for j in range(i+1):\n",
    "        print(character, end=' ')\n",
    "    character = chr(ord(character) +1)\n",
    "    print(' ')"
   ]
  },
  {
   "cell_type": "markdown",
   "metadata": {},
   "source": [
    "###  Print this pattern\n",
    "```    \n",
    "         A   \n",
    "      A  B  A   \n",
    "   A  B  C  A  B   \n",
    "A  B  C  D  A  B  C   \n",
    "```\n"
   ]
  },
  {
   "cell_type": "code",
   "execution_count": 44,
   "metadata": {},
   "outputs": [
    {
     "name": "stdout",
     "output_type": "stream",
     "text": [
      "             \n",
      "         A   \n",
      "      A  B  A   \n",
      "   A  B  C  A  B   \n",
      "A  B  C  D  A  B  C   \n"
     ]
    }
   ],
   "source": [
    "spaces = 7\n",
    "for i in range(0, 5):\n",
    "    character = 'A'\n",
    "    for j in range(i+1,5):\n",
    "        print('  ', end=' ')\n",
    "        \n",
    "    for j in range(0,i):\n",
    "        print(character+ \" \", end=' ')\n",
    "        character = chr(ord(character) +1)\n",
    "\n",
    "    character = 'A'\n",
    "    for j in range(1,i):\n",
    "        print(character+ \" \", end=' ')\n",
    "        character = chr(ord(character) +1)\n",
    "    print(' ')\n"
   ]
  },
  {
   "cell_type": "markdown",
   "metadata": {},
   "source": [
    "### Print this Pattern\n",
    "\n",
    "```\n",
    "E  \n",
    "D E  \n",
    "C D E  \n",
    "B C D E  \n",
    "A B C D E \n",
    "```"
   ]
  },
  {
   "cell_type": "code",
   "execution_count": 45,
   "metadata": {},
   "outputs": [
    {
     "name": "stdout",
     "output_type": "stream",
     "text": [
      "E  \n",
      "D E  \n",
      "C D E  \n",
      "B C D E  \n",
      "A B C D E  \n"
     ]
    }
   ],
   "source": [
    "character = 'E'\n",
    "for i in range(5):\n",
    "    character = chr(ord(character) -i)\n",
    "    for j in range(i+1):\n",
    "        print(character, end=\" \")\n",
    "        character = chr(ord(character) +1)\n",
    "    character = chr(ord(character) -1)\n",
    "    print(' ')"
   ]
  },
  {
   "cell_type": "markdown",
   "metadata": {},
   "source": [
    "### Print this pattern\n",
    "\n",
    "```\n",
    "* * * * * * * * * *  \n",
    "* * * *     * * * *  \n",
    "* * *         * * *  \n",
    "* *             * *  \n",
    "*                 *  \n",
    "*                 *  \n",
    "* *             * *  \n",
    "* * *         * * *  \n",
    "* * * *     * * * *  \n",
    "* * * * * * * * * * \n",
    "```"
   ]
  },
  {
   "cell_type": "code",
   "execution_count": 51,
   "metadata": {},
   "outputs": [
    {
     "name": "stdout",
     "output_type": "stream",
     "text": [
      "* * * * * * * * * *  \n",
      "* * * *     * * * *  \n",
      "* * *         * * *  \n",
      "* *             * *  \n",
      "*                 *  \n",
      "*                 *  \n",
      "* *             * *  \n",
      "* * *         * * *  \n",
      "* * * *     * * * *  \n",
      "* * * * * * * * * *  \n",
      " \n"
     ]
    }
   ],
   "source": [
    "for i in range(0,5):\n",
    "    for j in range(i,5):\n",
    "        print('*', end=' ')\n",
    "        \n",
    "    for j in range(0,2*i):\n",
    "        print(' ', end=' ')\n",
    "        \n",
    "    for j in range(i,5):\n",
    "        print('*', end=' ')\n",
    "        \n",
    "    print(' ')\n",
    "    \n",
    "for i in range(0,5):\n",
    "    for j in range(0,i+1):\n",
    "        print('*', end=' ')\n",
    "        \n",
    "    for j in range(0,2*(5-1-i)):\n",
    "        print(' ', end=' ')\n",
    "        \n",
    "    for j in range(0,i+1):\n",
    "        print('*', end=' ')\n",
    "        \n",
    "    print(' ')\n",
    "    \n",
    "print(' ')    \n",
    "        \n",
    "    "
   ]
  },
  {
   "cell_type": "markdown",
   "metadata": {},
   "source": [
    "### Print this pattern\n",
    "\n",
    "```\n",
    "*                          *   \n",
    "*  *                    *  *   \n",
    "*  *  *              *  *  *   \n",
    "*  *  *  *        *  *  *  *   \n",
    "*  *  *  *  *  *  *  *  *  *   \n",
    "*  *  *  *        *  *  *  *   \n",
    "*  *  *              *  *  *   \n",
    "*  *                    *  *   \n",
    "*                          *   \n",
    " ```"
   ]
  },
  {
   "cell_type": "code",
   "execution_count": 52,
   "metadata": {},
   "outputs": [
    {
     "name": "stdout",
     "output_type": "stream",
     "text": [
      "*                          *   \n",
      "*  *                    *  *   \n",
      "*  *  *              *  *  *   \n",
      "*  *  *  *        *  *  *  *   \n",
      "*  *  *  *  *  *  *  *  *  *   \n",
      "*  *  *  *        *  *  *  *   \n",
      "*  *  *              *  *  *   \n",
      "*  *                    *  *   \n",
      "*                          *   \n",
      " \n"
     ]
    }
   ],
   "source": [
    "for i in range(0, 4):\n",
    "    for j in range(0, i+1):\n",
    "        print('* ', end= \" \")\n",
    "    \n",
    "    for j in range(2*(5-1-i),0,-1):\n",
    "        print('  ', end= \" \")\n",
    "        \n",
    "    for j in range(0, i+1):\n",
    "        print('* ', end= \" \")\n",
    "    print(' ')\n",
    "for i in range(0,5):\n",
    "    for j in range(5,i,-1):\n",
    "        print('* ', end= \" \")\n",
    "    \n",
    "    for j in range(2*i,0,-1):\n",
    "        print('  ', end= \" \")\n",
    "        \n",
    "    for j in range(5,i,-1):\n",
    "        print('* ', end= \" \")\n",
    "    print(' ')\n",
    "print(' ')"
   ]
  },
  {
   "cell_type": "markdown",
   "metadata": {},
   "source": [
    "### Print this pattern\n",
    "\n",
    "```\n",
    "*  *  *  *  *   \n",
    "*           *   \n",
    "*           *   \n",
    "*           *   \n",
    "*  *  *  *  * \n",
    "```"
   ]
  },
  {
   "cell_type": "code",
   "execution_count": 53,
   "metadata": {},
   "outputs": [
    {
     "name": "stdout",
     "output_type": "stream",
     "text": [
      "*  *  *  *  *   \n",
      "*           *   \n",
      "*           *   \n",
      "*           *   \n",
      "*  *  *  *  *   \n"
     ]
    }
   ],
   "source": [
    "for i in range(5):\n",
    "    for j in range(5):\n",
    "        if (i==0 or i==4 or j==0 or j==4):\n",
    "            print('* ', end=\" \")\n",
    "            \n",
    "        else:\n",
    "            print('  ', end=\" \")\n",
    "    print(' ')"
   ]
  },
  {
   "cell_type": "markdown",
   "metadata": {},
   "source": [
    "### Print this pattern\n",
    "\n",
    "```\n",
    "4 4 4 4 4 4 4 \n",
    "4 3 3 3 3 3 4 \n",
    "4 3 2 2 2 3 4 \n",
    "4 3 2 1 2 3 4 \n",
    "4 3 2 2 2 3 4 \n",
    "4 3 3 3 3 3 4 \n",
    "4 4 4 4 4 4 4\n",
    "```"
   ]
  },
  {
   "cell_type": "code",
   "execution_count": null,
   "metadata": {},
   "outputs": [],
   "source": [
    "for i in range(1, 5):\n",
    "    for j in range(1, 5):\n",
    "        min = i if i<j else j\n",
    "        print(4 - min + 1, end = \" \")\n",
    "    \n",
    "    for j in range(3, 0, -1): \n",
    "        min = i if i < j else j \n",
    "        print(4 - min + 1, end = \" \")\n",
    "    print()\n",
    "    \n",
    "for i in range(4 - 1, 0, -1): \n",
    "    for j in range(1, 4 + 1): \n",
    "        min = i if i < j else j \n",
    "        print(4 - min + 1, end = \" \") \n",
    "  \n",
    "    for j in range(4 - 1, 0, -1): \n",
    "        min = i if i < j else j \n",
    "        print(4 - min + 1, end = \" \")\n",
    "  \n",
    "    print()"
   ]
  },
  {
   "cell_type": "markdown",
   "metadata": {},
   "source": [
    "## Basic Maths"
   ]
  },
  {
   "cell_type": "markdown",
   "metadata": {},
   "source": [
    "### Count digits in a number\n",
    "\n",
    "Given an integer N , write program to count number of digits in N.\n",
    "\n",
    "```\n",
    "Example 1:\n",
    "Input: N = 12345\n",
    "Output: 5\n",
    "Explanation: N has 5 digits\n",
    "\n",
    "Example 2:\n",
    "Input: N = 8394\n",
    "Output: 4\n",
    "Explanation: N has 4 digits\n",
    "```"
   ]
  },
  {
   "cell_type": "code",
   "execution_count": 54,
   "metadata": {},
   "outputs": [
    {
     "name": "stdout",
     "output_type": "stream",
     "text": [
      "2\n"
     ]
    }
   ],
   "source": [
    "def count_numbers():\n",
    "    number = int(input(\"Enter a Number:-\"))\n",
    "    count = 0\n",
    "    length = int(len(str(number)))\n",
    "    while (count<length):\n",
    "        count+=1\n",
    "    print(count)\n",
    "    \n",
    "count_numbers()"
   ]
  },
  {
   "cell_type": "markdown",
   "metadata": {},
   "source": [
    "## Reverse a number\n",
    "\n",
    "Given a number N reverse the number and print it.\n",
    "\n",
    "```\n",
    "Example 1:\n",
    "Input: N = 123\n",
    "Output: 321\n",
    "Explanation: The reverse of 123 is 321\n",
    "\n",
    "Example 2:\n",
    "Input: N = 234\n",
    "Output: 432\n",
    "Explanation: The reverse of 234 is 432\n",
    "```"
   ]
  },
  {
   "cell_type": "code",
   "execution_count": 55,
   "metadata": {},
   "outputs": [
    {
     "name": "stdout",
     "output_type": "stream",
     "text": [
      "543211\n"
     ]
    }
   ],
   "source": [
    "def reverse_number(number):\n",
    "    reverse_number = 0\n",
    "    for i in range(0, len(str(number))):\n",
    "        last_number = number%10\n",
    "        number = number//10\n",
    "        reverse_number = reverse_number*10+last_number\n",
    "    print(reverse_number)\n",
    "                  \n",
    "\n",
    "number = int(input(\"Enter the Number to be reversed:\"))\n",
    "reverse_number(number)    "
   ]
  },
  {
   "cell_type": "markdown",
   "metadata": {},
   "source": [
    "###  Check Palindrome\n",
    "\n",
    " Given a number check if it is a palindrome.\n",
    "\n",
    "An integer is considered a palindrome when it reads the same backward as forward.\n",
    "\n",
    "```\n",
    "Example 1:\n",
    "Input: N = 123\n",
    "Output: Not Palindrome Number\n",
    "Explanation: 123 read backwards is 321.Since these are two different numbers 123 is not a palindrome.\n",
    "\n",
    "Example 2:\n",
    "Input: N =  121 \n",
    "Output: Palindrome Number\n",
    "Explanation: 121 read backwards as 121.Since these are two same numbers 121 is a palindrome.\n",
    "```"
   ]
  },
  {
   "cell_type": "code",
   "execution_count": 56,
   "metadata": {},
   "outputs": [
    {
     "name": "stdout",
     "output_type": "stream",
     "text": [
      "121\n",
      "121\n",
      "The number is PALINDROME !\n"
     ]
    }
   ],
   "source": [
    "def check_palindrome(number):\n",
    "    original_number = number\n",
    "    reverse_number = 0\n",
    "    for i in range(0, len(str(number))):\n",
    "        last_digit = number%10\n",
    "        number = number//10\n",
    "        reverse_number = reverse_number*10+last_digit\n",
    "    print(reverse_number)\n",
    "    print(original_number)\n",
    "    if(reverse_number == original_number):\n",
    "        print(\"The number is PALINDROME !\")\n",
    "    else:\n",
    "        print(\"The number is NOT A PALINDROME !\")\n",
    "        \n",
    "\n",
    "number = int(input(\"Enter a number:\"))\n",
    "check_palindrome(number)\n"
   ]
  },
  {
   "cell_type": "markdown",
   "metadata": {},
   "source": [
    "### GCD Or HCF\n",
    "\n",
    "Find gcd of two numbers.\n",
    "\n",
    "```\n",
    "Example 1:\n",
    "Input: num1 = 4, num2 = 8\n",
    "Output: 4\n",
    "Explanation: Since 4 is the greatest number which divides both num1 and num2.\n",
    "\n",
    "Example 2:\n",
    "Input: num1 = 3, num2 = 6\n",
    "Output: 3\n",
    "Explanation: Since 3 is the greatest number which divides both num1 and num2.\n",
    "```"
   ]
  },
  {
   "cell_type": "code",
   "execution_count": 57,
   "metadata": {},
   "outputs": [
    {
     "name": "stdout",
     "output_type": "stream",
     "text": [
      "1\n"
     ]
    }
   ],
   "source": [
    "def hcf(num1, num2):\n",
    "    array = []\n",
    "    mini = min(num1, num2)\n",
    "    for i in range(1,mini+1):\n",
    "        if num1%i == 0 and num2%i == 0:\n",
    "            array.append(i)\n",
    "    return max(array)\n",
    "    \n",
    "\n",
    "num1 = int(input(\"Enter the first number\"))\n",
    "num2 = int(input(\"Enter the second number\"))\n",
    "print(hcf(num1, num2))\n"
   ]
  },
  {
   "cell_type": "markdown",
   "metadata": {},
   "source": [
    "### Armstrong Numbers\n",
    "\n",
    "Armstrong Numbers are the numbers having the sum of digits raised to power no. of digits is equal to a given number. Examples- 0, 1, 153, 370, 371, 407, and 1634 are some of the Armstrong Numbers.\n",
    "\n",
    "```\n",
    "Example 1:\n",
    "Input:153 \n",
    "Output: Yes, it is an Armstrong Number\n",
    "Explanation: 1^3 + 5^3 + 3^3 = 153\n",
    "\n",
    "Input:170 \n",
    "Output: No, it is not an Armstrong Number\n",
    "Explanation: 1^3 + 7^3 + 0^3 != 170\n",
    "```"
   ]
  },
  {
   "cell_type": "code",
   "execution_count": 58,
   "metadata": {},
   "outputs": [
    {
     "data": {
      "text/plain": [
       "'Is an armstrong number'"
      ]
     },
     "execution_count": 58,
     "metadata": {},
     "output_type": "execute_result"
    }
   ],
   "source": [
    "def armstrong_number(number):\n",
    "    original_number = number\n",
    "    # find the number of digits in the number\n",
    "    num_digits = int(len(str(number)))\n",
    "    armstrong_number = 0\n",
    "    for i in str(number):\n",
    "        armstrong_number = armstrong_number +int(i)**num_digits\n",
    "    if original_number == number:\n",
    "        return(\"Is an armstrong number\")\n",
    "    else:\n",
    "        return(\"Is not an armstron number\")\n",
    "\n",
    "number = int(input(\"Enter a number:\"))\n",
    "armstrong_number(number)"
   ]
  },
  {
   "cell_type": "markdown",
   "metadata": {},
   "source": [
    "### Print all Divisors\n",
    "\n",
    "Given a number, print all the divisors of the number. A divisor is a number that gives remainder as zero when divided.\n",
    "\n",
    "```\n",
    "Example 1:\n",
    "Input: n = 36\n",
    "Output: 1 2 3 4 6 9 12 18 36\n",
    "Explanation: All the divisors of 36 are printed.\n",
    "\n",
    "Example 2:\n",
    "Input: n = 97\n",
    "Output: 1 97\n",
    "Explanation: Since 97 is a prime number, only 1 and 97 are printed.\n",
    "```"
   ]
  },
  {
   "cell_type": "code",
   "execution_count": 59,
   "metadata": {},
   "outputs": [
    {
     "data": {
      "text/plain": [
       "[1, 97]"
      ]
     },
     "execution_count": 59,
     "metadata": {},
     "output_type": "execute_result"
    }
   ],
   "source": [
    "def print_divisor(number):\n",
    "    array = []\n",
    "    for i in range(1,number+1):\n",
    "        if number % i == 0:\n",
    "            array.append(i)\n",
    "    return array\n",
    "\n",
    "number = int(input(\"Enter a number:\"))\n",
    "print_divisor(number)"
   ]
  },
  {
   "cell_type": "markdown",
   "metadata": {},
   "source": [
    "### Check for prime\n",
    "\n",
    "Given a number, check whether it is prime or not. A prime number is a natural number that is only divisible by 1 and by itself.\n",
    "\n",
    "```\n",
    "Example 1:\n",
    "Input: N = 3\n",
    "Output: Prime\n",
    "Explanation: 3 is a prime number\n",
    "\n",
    "Example 2:\n",
    "Input: N = 26\n",
    "Output: Non-Prime\n",
    "Explanation: 26 is not prime\n",
    "```"
   ]
  },
  {
   "cell_type": "code",
   "execution_count": 60,
   "metadata": {},
   "outputs": [
    {
     "data": {
      "text/plain": [
       "True"
      ]
     },
     "execution_count": 60,
     "metadata": {},
     "output_type": "execute_result"
    }
   ],
   "source": [
    "def prime_number(number):\n",
    "    flag = True\n",
    "    for i in range(2,number):\n",
    "        if number%i==0:\n",
    "            flag = False\n",
    "            break\n",
    "    return flag\n",
    "\n",
    "            \n",
    "number = int(input(\"Enter the number:\"))\n",
    "prime_number(number)\n"
   ]
  },
  {
   "cell_type": "markdown",
   "metadata": {},
   "source": [
    "## Learn Basic Recursion"
   ]
  },
  {
   "cell_type": "markdown",
   "metadata": {},
   "source": [
    "### Understand recursion by print something N times"
   ]
  },
  {
   "cell_type": "code",
   "execution_count": 61,
   "metadata": {},
   "outputs": [
    {
     "name": "stdout",
     "output_type": "stream",
     "text": [
      "printing something 9 times\n",
      "printing something 8 times\n",
      "printing something 7 times\n",
      "printing something 6 times\n",
      "printing something 5 times\n",
      "printing something 4 times\n",
      "printing something 3 times\n",
      "printing something 2 times\n",
      "printing something 1 times\n"
     ]
    }
   ],
   "source": [
    "def n_time(n):\n",
    "    if (n==0):\n",
    "        return\n",
    "    else:\n",
    "        print(f\"printing something {n} times\")\n",
    "        n_time(n-1)\n",
    "\n",
    "n_time(9)"
   ]
  },
  {
   "cell_type": "markdown",
   "metadata": {},
   "source": [
    "### Print name N times using recursion"
   ]
  },
  {
   "cell_type": "code",
   "execution_count": 62,
   "metadata": {},
   "outputs": [
    {
     "name": "stdout",
     "output_type": "stream",
     "text": [
      "Vivek\n",
      "Vivek\n",
      "Vivek\n",
      "Vivek\n",
      "Vivek\n",
      "Vivek\n",
      "Vivek\n",
      "Vivek\n",
      "Vivek\n",
      "Vivek\n"
     ]
    }
   ],
   "source": [
    "def print_name(name, n):\n",
    "    if(n==0):\n",
    "        return\n",
    "    else:\n",
    "        print(name)\n",
    "        print_name(name, n-1)\n",
    "\n",
    "print_name(\"Vivek\", 10)"
   ]
  },
  {
   "cell_type": "markdown",
   "metadata": {},
   "source": [
    "### Print 1 to N using recursion"
   ]
  },
  {
   "cell_type": "code",
   "execution_count": 63,
   "metadata": {},
   "outputs": [
    {
     "name": "stdout",
     "output_type": "stream",
     "text": [
      "1\n",
      "2\n",
      "3\n",
      "4\n",
      "5\n",
      "6\n",
      "7\n",
      "8\n",
      "9\n",
      "10\n"
     ]
    }
   ],
   "source": [
    "def num_one_n(n):\n",
    "    if n==0:\n",
    "        return\n",
    "    else:\n",
    "        num_one_n(n-1)\n",
    "        print(n)\n",
    "\n",
    "num_one_n(10)"
   ]
  },
  {
   "cell_type": "markdown",
   "metadata": {},
   "source": [
    "### Print N to 1 using recursion"
   ]
  },
  {
   "cell_type": "code",
   "execution_count": 64,
   "metadata": {},
   "outputs": [
    {
     "name": "stdout",
     "output_type": "stream",
     "text": [
      "10\n",
      "9\n",
      "8\n",
      "7\n",
      "6\n",
      "5\n",
      "4\n",
      "3\n",
      "2\n",
      "1\n"
     ]
    }
   ],
   "source": [
    "def n_to_one(n):\n",
    "    if n==0:\n",
    "        return\n",
    "    else:\n",
    "        print(n)\n",
    "        n_to_one(n-1)\n",
    "        \n",
    "n_to_one(10)"
   ]
  },
  {
   "cell_type": "markdown",
   "metadata": {},
   "source": [
    "### Sum of first N numbers"
   ]
  },
  {
   "cell_type": "code",
   "execution_count": 65,
   "metadata": {},
   "outputs": [
    {
     "data": {
      "text/plain": [
       "10"
      ]
     },
     "execution_count": 65,
     "metadata": {},
     "output_type": "execute_result"
    }
   ],
   "source": [
    "def sum_n(n):\n",
    "    summ = n*(n-1)/2\n",
    "    return int(summ)        \n",
    "\n",
    "sum_n(5)\n",
    "        "
   ]
  },
  {
   "cell_type": "markdown",
   "metadata": {},
   "source": [
    "### Factorial of N numbers"
   ]
  },
  {
   "cell_type": "code",
   "execution_count": 66,
   "metadata": {},
   "outputs": [
    {
     "data": {
      "text/plain": [
       "120"
      ]
     },
     "execution_count": 66,
     "metadata": {},
     "output_type": "execute_result"
    }
   ],
   "source": [
    "def factorial(numbers):\n",
    "    if numbers == 1:\n",
    "        return numbers\n",
    "    else:\n",
    "        return numbers*factorial(numbers-1)\n",
    "\n",
    "factorial(5)"
   ]
  },
  {
   "cell_type": "markdown",
   "metadata": {},
   "source": [
    "### Reverse an array"
   ]
  },
  {
   "cell_type": "code",
   "execution_count": 67,
   "metadata": {},
   "outputs": [
    {
     "name": "stdout",
     "output_type": "stream",
     "text": [
      "[10, 9, 8, 7, 6, 5, 4, 3, 2, 1]\n"
     ]
    }
   ],
   "source": [
    "def reversed_array(arr,start, end):\n",
    "    if start >= end:\n",
    "        print(arr)\n",
    "        return\n",
    "    else:\n",
    "        arr[start], arr[end] = arr[end],arr[start]\n",
    "        reversed_array(arr,start+1,end-1)\n",
    "        \n",
    "array = [1,2,3,4,5,6,7,8,9,10]\n",
    "reversed_array(array, 0, len(array)-1)"
   ]
  },
  {
   "cell_type": "markdown",
   "metadata": {},
   "source": [
    "### Check if a string is palindrome or not"
   ]
  },
  {
   "cell_type": "code",
   "execution_count": 68,
   "metadata": {},
   "outputs": [
    {
     "data": {
      "text/plain": [
       "True"
      ]
     },
     "execution_count": 68,
     "metadata": {},
     "output_type": "execute_result"
    }
   ],
   "source": [
    "def recursion_palindrome(string,start, end ):\n",
    "    if start>end or string[start]!= string[end] :\n",
    "        return False\n",
    "    else:\n",
    "        string[start]== string[end]\n",
    "        recursion_palindrome(string,start+1, end-1 )\n",
    "    return True\n",
    "        \n",
    "\n",
    "string = input()\n",
    "recursion_palindrome(string, 0, len(string)-1)"
   ]
  },
  {
   "cell_type": "markdown",
   "metadata": {},
   "source": [
    "### Fibonacci Number"
   ]
  },
  {
   "cell_type": "code",
   "execution_count": 69,
   "metadata": {},
   "outputs": [
    {
     "data": {
      "text/plain": [
       "28657"
      ]
     },
     "execution_count": 69,
     "metadata": {},
     "output_type": "execute_result"
    }
   ],
   "source": [
    "def is_fibonacci(number):\n",
    "    if number in [0,1]:\n",
    "        return number\n",
    "    else:\n",
    "        return is_fibonacci(number-1)+is_fibonacci(number-2)\n",
    "\n",
    "number = int(input())\n",
    "is_fibonacci(number)"
   ]
  },
  {
   "cell_type": "markdown",
   "metadata": {},
   "source": [
    "## Learn Basic Hashing"
   ]
  },
  {
   "cell_type": "markdown",
   "metadata": {},
   "source": [
    "### Counting frequencies of array elements"
   ]
  },
  {
   "cell_type": "code",
   "execution_count": 77,
   "metadata": {},
   "outputs": [
    {
     "name": "stdout",
     "output_type": "stream",
     "text": [
      "{1: 2, 2: 2, 3: 1, 4: 6}\n"
     ]
    }
   ],
   "source": [
    "def freq(array):\n",
    "    for i in array:\n",
    "        if i in dictt:\n",
    "            dictt[i] +=1\n",
    "        else:\n",
    "            dictt[i] = 1\n",
    "    \n",
    "array = [int(item) for item in input().split()]\n",
    "dictt = {}\n",
    "freq(array)\n",
    "print(dictt)"
   ]
  },
  {
   "cell_type": "markdown",
   "metadata": {},
   "source": [
    "### Find the highest/lowest frequency element"
   ]
  },
  {
   "cell_type": "code",
   "execution_count": 76,
   "metadata": {},
   "outputs": [
    {
     "name": "stdout",
     "output_type": "stream",
     "text": [
      "{1: 1, 2: 3, 3: 2, 4: 9}\n",
      "max is 4, min is 1\n"
     ]
    }
   ],
   "source": [
    "from collections import Counter\n",
    "def hi_lo_freq(array):\n",
    "    maxx = 0\n",
    "    minn= 100\n",
    "    mp = dict(Counter(array))\n",
    "    print(mp)\n",
    "    for key ,value in mp.items():\n",
    "        if value > maxx:\n",
    "            maxx = key\n",
    "            if value < minn:\n",
    "                minn= value\n",
    "    print(f\"max is {maxx}, min is {minn}\")\n",
    "              \n",
    "array = [int(item) for item in input().split()]\n",
    "hi_lo_freq(array)"
   ]
  }
 ],
 "metadata": {
  "kernelspec": {
   "display_name": "Python 3.10.6 64-bit (windows store)",
   "language": "python",
   "name": "python3"
  },
  "language_info": {
   "codemirror_mode": {
    "name": "ipython",
    "version": 3
   },
   "file_extension": ".py",
   "mimetype": "text/x-python",
   "name": "python",
   "nbconvert_exporter": "python",
   "pygments_lexer": "ipython3",
   "version": "3.10.6"
  },
  "orig_nbformat": 4,
  "vscode": {
   "interpreter": {
    "hash": "a184b04f7e4cfe8ad73578cf659e38bf16860da1fe2b411d933321707ccf3233"
   }
  }
 },
 "nbformat": 4,
 "nbformat_minor": 2
}
